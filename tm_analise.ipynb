{
  "nbformat": 4,
  "nbformat_minor": 0,
  "metadata": {
    "colab": {
      "provenance": [],
      "collapsed_sections": [
        "Y9sG1XFFakaF",
        "00EptoW0lfh5",
        "tfpK0zhNs4hE",
        "rCbwNTy38WK_",
        "hGxwJ451F6c1",
        "jwNT3up9F6c4",
        "fe2XjvomF6c4",
        "Afez2HnXF6c4"
      ]
    },
    "kernelspec": {
      "name": "python3",
      "display_name": "Python 3"
    },
    "language_info": {
      "name": "python"
    }
  },
  "cells": [
    {
      "cell_type": "markdown",
      "source": [
        "# Cálculo de Tempos & Movimentos - Demandas de Contratação CEHOJ"
      ],
      "metadata": {
        "id": "pCccSn5sIG3g"
      }
    },
    {
      "cell_type": "markdown",
      "source": [
        "*   O objetivo desta análise exploratória é atualizar, de forma mais próxima à realidade, o Tempos & Movimentos gasto para tratar as demandas de Contratação de Empreendimento, na CEHOJ\n",
        "*   Para isso, foram coletados os prazos gastos junto aos analistas, e, ao final, compilamos todos os resultados em um único arquivo Excel, que vamos usar pra ser analisado aqui."
      ],
      "metadata": {
        "id": "RGSPc5R_INuP"
      }
    },
    {
      "cell_type": "code",
      "source": [
        "# Antes de tudo, vamos importar as Bibliotecas que vamos utilizar\n",
        " \n",
        "import numpy as np\n",
        "import pandas as pd"
      ],
      "metadata": {
        "id": "2marzDwwJk3P"
      },
      "execution_count": null,
      "outputs": []
    },
    {
      "cell_type": "code",
      "execution_count": null,
      "metadata": {
        "id": "C7QnA6bqENRc"
      },
      "outputs": [],
      "source": [
        "# Puxando os dados do Excel\n",
        "\n",
        "tempos_movimentos = pd.read_excel(\"tm_compilado.xlsx\")"
      ]
    },
    {
      "cell_type": "code",
      "source": [
        "# Preview das respostas dadas\n",
        "\n",
        "tempos_movimentos"
      ],
      "metadata": {
        "colab": {
          "base_uri": "https://localhost:8080/",
          "height": 424
        },
        "id": "nSMJ_VbbJ1_1",
        "outputId": "39ac72be-d357-441e-eaf5-0f411e8a19fa"
      },
      "execution_count": null,
      "outputs": [
        {
          "output_type": "execute_result",
          "data": {
            "text/plain": [
              "                     Produto Origem Recursos      Natureza  \\\n",
              "0    Apoio à Produção COM PJ            SBPE  Habitacional   \n",
              "1    Apoio à Produção COM PJ            SBPE  Habitacional   \n",
              "2    Apoio à Produção COM PJ            SBPE  Habitacional   \n",
              "3    Apoio à Produção COM PJ            SBPE  Habitacional   \n",
              "4    Apoio à Produção COM PJ            FGTS  Habitacional   \n",
              "..                       ...             ...           ...   \n",
              "191  Apoio à Produção COM PJ            SBPE  Habitacional   \n",
              "192  Apoio à Produção COM PJ            FGTS  Habitacional   \n",
              "193  Apoio à Produção COM PJ            FGTS  Habitacional   \n",
              "194                      PEC            SBPE  Habitacional   \n",
              "195  Apoio à Produção COM PJ            SBPE  Habitacional   \n",
              "\n",
              "                      VP Tempo Checklist Tempo Operacional  \\\n",
              "0          VINAT [SUMEP]        00:47:00          00:25:00   \n",
              "1          VINAT [SUMEP]        00:49:00          00:27:00   \n",
              "2          VINAT [SUMEP]        00:45:00          00:30:00   \n",
              "3    SEC [VINAT - SUNCO]        00:40:00          00:20:00   \n",
              "4          VINAT [SUMEP]        00:50:00          00:15:00   \n",
              "..                   ...             ...               ...   \n",
              "191  SEC [VINAT - SUNCO]        00:48:00          00:41:00   \n",
              "192        VINAT [SUMEP]        00:48:00          01:08:00   \n",
              "193        VINAT [SUMEP]        00:49:00          00:36:00   \n",
              "194        VINAT [SUMEP]        01:58:00          01:02:00   \n",
              "195        VINAT [SUMEP]        00:36:00          00:25:00   \n",
              "\n",
              "    Tempo Edicao Minuta Tempo Adicional  \n",
              "0              00:42:00             NaN  \n",
              "1              00:40:00             NaN  \n",
              "2              00:45:00             NaN  \n",
              "3              00:34:00             NaN  \n",
              "4              00:44:00             NaN  \n",
              "..                  ...             ...  \n",
              "191            00:30:00        01:23:00  \n",
              "192            00:45:00        00:33:00  \n",
              "193            00:38:00        00:32:00  \n",
              "194            01:42:00        00:28:00  \n",
              "195            00:36:00             NaN  \n",
              "\n",
              "[196 rows x 8 columns]"
            ],
            "text/html": [
              "\n",
              "  <div id=\"df-2c802c4d-ea46-4b12-bc8c-65e67da4bb70\">\n",
              "    <div class=\"colab-df-container\">\n",
              "      <div>\n",
              "<style scoped>\n",
              "    .dataframe tbody tr th:only-of-type {\n",
              "        vertical-align: middle;\n",
              "    }\n",
              "\n",
              "    .dataframe tbody tr th {\n",
              "        vertical-align: top;\n",
              "    }\n",
              "\n",
              "    .dataframe thead th {\n",
              "        text-align: right;\n",
              "    }\n",
              "</style>\n",
              "<table border=\"1\" class=\"dataframe\">\n",
              "  <thead>\n",
              "    <tr style=\"text-align: right;\">\n",
              "      <th></th>\n",
              "      <th>Produto</th>\n",
              "      <th>Origem Recursos</th>\n",
              "      <th>Natureza</th>\n",
              "      <th>VP</th>\n",
              "      <th>Tempo Checklist</th>\n",
              "      <th>Tempo Operacional</th>\n",
              "      <th>Tempo Edicao Minuta</th>\n",
              "      <th>Tempo Adicional</th>\n",
              "    </tr>\n",
              "  </thead>\n",
              "  <tbody>\n",
              "    <tr>\n",
              "      <th>0</th>\n",
              "      <td>Apoio à Produção COM PJ</td>\n",
              "      <td>SBPE</td>\n",
              "      <td>Habitacional</td>\n",
              "      <td>VINAT [SUMEP]</td>\n",
              "      <td>00:47:00</td>\n",
              "      <td>00:25:00</td>\n",
              "      <td>00:42:00</td>\n",
              "      <td>NaN</td>\n",
              "    </tr>\n",
              "    <tr>\n",
              "      <th>1</th>\n",
              "      <td>Apoio à Produção COM PJ</td>\n",
              "      <td>SBPE</td>\n",
              "      <td>Habitacional</td>\n",
              "      <td>VINAT [SUMEP]</td>\n",
              "      <td>00:49:00</td>\n",
              "      <td>00:27:00</td>\n",
              "      <td>00:40:00</td>\n",
              "      <td>NaN</td>\n",
              "    </tr>\n",
              "    <tr>\n",
              "      <th>2</th>\n",
              "      <td>Apoio à Produção COM PJ</td>\n",
              "      <td>SBPE</td>\n",
              "      <td>Habitacional</td>\n",
              "      <td>VINAT [SUMEP]</td>\n",
              "      <td>00:45:00</td>\n",
              "      <td>00:30:00</td>\n",
              "      <td>00:45:00</td>\n",
              "      <td>NaN</td>\n",
              "    </tr>\n",
              "    <tr>\n",
              "      <th>3</th>\n",
              "      <td>Apoio à Produção COM PJ</td>\n",
              "      <td>SBPE</td>\n",
              "      <td>Habitacional</td>\n",
              "      <td>SEC [VINAT - SUNCO]</td>\n",
              "      <td>00:40:00</td>\n",
              "      <td>00:20:00</td>\n",
              "      <td>00:34:00</td>\n",
              "      <td>NaN</td>\n",
              "    </tr>\n",
              "    <tr>\n",
              "      <th>4</th>\n",
              "      <td>Apoio à Produção COM PJ</td>\n",
              "      <td>FGTS</td>\n",
              "      <td>Habitacional</td>\n",
              "      <td>VINAT [SUMEP]</td>\n",
              "      <td>00:50:00</td>\n",
              "      <td>00:15:00</td>\n",
              "      <td>00:44:00</td>\n",
              "      <td>NaN</td>\n",
              "    </tr>\n",
              "    <tr>\n",
              "      <th>...</th>\n",
              "      <td>...</td>\n",
              "      <td>...</td>\n",
              "      <td>...</td>\n",
              "      <td>...</td>\n",
              "      <td>...</td>\n",
              "      <td>...</td>\n",
              "      <td>...</td>\n",
              "      <td>...</td>\n",
              "    </tr>\n",
              "    <tr>\n",
              "      <th>191</th>\n",
              "      <td>Apoio à Produção COM PJ</td>\n",
              "      <td>SBPE</td>\n",
              "      <td>Habitacional</td>\n",
              "      <td>SEC [VINAT - SUNCO]</td>\n",
              "      <td>00:48:00</td>\n",
              "      <td>00:41:00</td>\n",
              "      <td>00:30:00</td>\n",
              "      <td>01:23:00</td>\n",
              "    </tr>\n",
              "    <tr>\n",
              "      <th>192</th>\n",
              "      <td>Apoio à Produção COM PJ</td>\n",
              "      <td>FGTS</td>\n",
              "      <td>Habitacional</td>\n",
              "      <td>VINAT [SUMEP]</td>\n",
              "      <td>00:48:00</td>\n",
              "      <td>01:08:00</td>\n",
              "      <td>00:45:00</td>\n",
              "      <td>00:33:00</td>\n",
              "    </tr>\n",
              "    <tr>\n",
              "      <th>193</th>\n",
              "      <td>Apoio à Produção COM PJ</td>\n",
              "      <td>FGTS</td>\n",
              "      <td>Habitacional</td>\n",
              "      <td>VINAT [SUMEP]</td>\n",
              "      <td>00:49:00</td>\n",
              "      <td>00:36:00</td>\n",
              "      <td>00:38:00</td>\n",
              "      <td>00:32:00</td>\n",
              "    </tr>\n",
              "    <tr>\n",
              "      <th>194</th>\n",
              "      <td>PEC</td>\n",
              "      <td>SBPE</td>\n",
              "      <td>Habitacional</td>\n",
              "      <td>VINAT [SUMEP]</td>\n",
              "      <td>01:58:00</td>\n",
              "      <td>01:02:00</td>\n",
              "      <td>01:42:00</td>\n",
              "      <td>00:28:00</td>\n",
              "    </tr>\n",
              "    <tr>\n",
              "      <th>195</th>\n",
              "      <td>Apoio à Produção COM PJ</td>\n",
              "      <td>SBPE</td>\n",
              "      <td>Habitacional</td>\n",
              "      <td>VINAT [SUMEP]</td>\n",
              "      <td>00:36:00</td>\n",
              "      <td>00:25:00</td>\n",
              "      <td>00:36:00</td>\n",
              "      <td>NaN</td>\n",
              "    </tr>\n",
              "  </tbody>\n",
              "</table>\n",
              "<p>196 rows × 8 columns</p>\n",
              "</div>\n",
              "      <button class=\"colab-df-convert\" onclick=\"convertToInteractive('df-2c802c4d-ea46-4b12-bc8c-65e67da4bb70')\"\n",
              "              title=\"Convert this dataframe to an interactive table.\"\n",
              "              style=\"display:none;\">\n",
              "        \n",
              "  <svg xmlns=\"http://www.w3.org/2000/svg\" height=\"24px\"viewBox=\"0 0 24 24\"\n",
              "       width=\"24px\">\n",
              "    <path d=\"M0 0h24v24H0V0z\" fill=\"none\"/>\n",
              "    <path d=\"M18.56 5.44l.94 2.06.94-2.06 2.06-.94-2.06-.94-.94-2.06-.94 2.06-2.06.94zm-11 1L8.5 8.5l.94-2.06 2.06-.94-2.06-.94L8.5 2.5l-.94 2.06-2.06.94zm10 10l.94 2.06.94-2.06 2.06-.94-2.06-.94-.94-2.06-.94 2.06-2.06.94z\"/><path d=\"M17.41 7.96l-1.37-1.37c-.4-.4-.92-.59-1.43-.59-.52 0-1.04.2-1.43.59L10.3 9.45l-7.72 7.72c-.78.78-.78 2.05 0 2.83L4 21.41c.39.39.9.59 1.41.59.51 0 1.02-.2 1.41-.59l7.78-7.78 2.81-2.81c.8-.78.8-2.07 0-2.86zM5.41 20L4 18.59l7.72-7.72 1.47 1.35L5.41 20z\"/>\n",
              "  </svg>\n",
              "      </button>\n",
              "      \n",
              "  <style>\n",
              "    .colab-df-container {\n",
              "      display:flex;\n",
              "      flex-wrap:wrap;\n",
              "      gap: 12px;\n",
              "    }\n",
              "\n",
              "    .colab-df-convert {\n",
              "      background-color: #E8F0FE;\n",
              "      border: none;\n",
              "      border-radius: 50%;\n",
              "      cursor: pointer;\n",
              "      display: none;\n",
              "      fill: #1967D2;\n",
              "      height: 32px;\n",
              "      padding: 0 0 0 0;\n",
              "      width: 32px;\n",
              "    }\n",
              "\n",
              "    .colab-df-convert:hover {\n",
              "      background-color: #E2EBFA;\n",
              "      box-shadow: 0px 1px 2px rgba(60, 64, 67, 0.3), 0px 1px 3px 1px rgba(60, 64, 67, 0.15);\n",
              "      fill: #174EA6;\n",
              "    }\n",
              "\n",
              "    [theme=dark] .colab-df-convert {\n",
              "      background-color: #3B4455;\n",
              "      fill: #D2E3FC;\n",
              "    }\n",
              "\n",
              "    [theme=dark] .colab-df-convert:hover {\n",
              "      background-color: #434B5C;\n",
              "      box-shadow: 0px 1px 3px 1px rgba(0, 0, 0, 0.15);\n",
              "      filter: drop-shadow(0px 1px 2px rgba(0, 0, 0, 0.3));\n",
              "      fill: #FFFFFF;\n",
              "    }\n",
              "  </style>\n",
              "\n",
              "      <script>\n",
              "        const buttonEl =\n",
              "          document.querySelector('#df-2c802c4d-ea46-4b12-bc8c-65e67da4bb70 button.colab-df-convert');\n",
              "        buttonEl.style.display =\n",
              "          google.colab.kernel.accessAllowed ? 'block' : 'none';\n",
              "\n",
              "        async function convertToInteractive(key) {\n",
              "          const element = document.querySelector('#df-2c802c4d-ea46-4b12-bc8c-65e67da4bb70');\n",
              "          const dataTable =\n",
              "            await google.colab.kernel.invokeFunction('convertToInteractive',\n",
              "                                                     [key], {});\n",
              "          if (!dataTable) return;\n",
              "\n",
              "          const docLinkHtml = 'Like what you see? Visit the ' +\n",
              "            '<a target=\"_blank\" href=https://colab.research.google.com/notebooks/data_table.ipynb>data table notebook</a>'\n",
              "            + ' to learn more about interactive tables.';\n",
              "          element.innerHTML = '';\n",
              "          dataTable['output_type'] = 'display_data';\n",
              "          await google.colab.output.renderOutput(dataTable, element);\n",
              "          const docLink = document.createElement('div');\n",
              "          docLink.innerHTML = docLinkHtml;\n",
              "          element.appendChild(docLink);\n",
              "        }\n",
              "      </script>\n",
              "    </div>\n",
              "  </div>\n",
              "  "
            ]
          },
          "metadata": {},
          "execution_count": 175
        }
      ]
    },
    {
      "cell_type": "code",
      "source": [
        "tempos_movimentos.info()"
      ],
      "metadata": {
        "colab": {
          "base_uri": "https://localhost:8080/"
        },
        "id": "XfBq0Y7NRLzd",
        "outputId": "eb082970-caaa-4a44-82eb-396c3b3d6c6b"
      },
      "execution_count": null,
      "outputs": [
        {
          "output_type": "stream",
          "name": "stdout",
          "text": [
            "<class 'pandas.core.frame.DataFrame'>\n",
            "RangeIndex: 196 entries, 0 to 195\n",
            "Data columns (total 8 columns):\n",
            " #   Column               Non-Null Count  Dtype \n",
            "---  ------               --------------  ----- \n",
            " 0   Produto              196 non-null    object\n",
            " 1   Origem Recursos      196 non-null    object\n",
            " 2   Natureza             196 non-null    object\n",
            " 3   VP                   196 non-null    object\n",
            " 4   Tempo Checklist      196 non-null    object\n",
            " 5   Tempo Operacional    196 non-null    object\n",
            " 6   Tempo Edicao Minuta  192 non-null    object\n",
            " 7   Tempo Adicional      109 non-null    object\n",
            "dtypes: object(8)\n",
            "memory usage: 12.4+ KB\n"
          ]
        }
      ]
    },
    {
      "cell_type": "markdown",
      "source": [
        "*   Temos 196 respostas dadas pelos analistas, com as quais faremos nossa análise"
      ],
      "metadata": {
        "id": "ZEukNPRHM8eX"
      }
    },
    {
      "cell_type": "code",
      "source": [
        "# Vamos observar se existem colunas com valores não preenchidos\n",
        "\n",
        "tempos_movimentos.isnull().sum()"
      ],
      "metadata": {
        "colab": {
          "base_uri": "https://localhost:8080/"
        },
        "id": "Z2GehZXuifco",
        "outputId": "597057ee-98ce-4b95-fed1-7ff5d79a739f"
      },
      "execution_count": null,
      "outputs": [
        {
          "output_type": "execute_result",
          "data": {
            "text/plain": [
              "Produto                 0\n",
              "Origem Recursos         0\n",
              "Natureza                0\n",
              "VP                      0\n",
              "Tempo Checklist         0\n",
              "Tempo Operacional       0\n",
              "Tempo Edicao Minuta     4\n",
              "Tempo Adicional        87\n",
              "dtype: int64"
            ]
          },
          "metadata": {},
          "execution_count": 177
        }
      ]
    },
    {
      "cell_type": "markdown",
      "source": [
        "*   Temos 4 respostas com valor não preenchido para Tempo de Edição de Minuta, e 87 com valor não preenchido para a coluna de Tempo Adicional (esta última, de preenchimento não obrigatório)\n",
        "*   É importante tratar os dados faltantes para que a análise fique mais próxima possível da realidade. Ao lidar com cada uma dessas colunas separadamente, mais adiante, vamos identificar qual a melhor estratégia para lidar com esses dados faltantes"
      ],
      "metadata": {
        "id": "mQ6UUvW3iklq"
      }
    },
    {
      "cell_type": "code",
      "source": [
        "# Antes de começar, vamos renomear as colunas pra facilitar a manipulação dos dados\n",
        "\n",
        "tempos_movimentos.rename(columns={'Produto' : 'produto',\n",
        "                                  'Origem Recursos' : 'OR',\n",
        "                                  'Natureza' : 'natureza',\n",
        "                                  'VP' : 'VP',\n",
        "                                  'Tempo Checklist' : 'tm_checklist',\n",
        "                                  'Tempo Operacional' : 'tm_operacional',\n",
        "                                  'Tempo Edicao Minuta' : 'tm_minuta',\n",
        "                                  'Tempo Adicional' : 'tm_adicional'}, inplace=True)"
      ],
      "metadata": {
        "id": "AHsbd2dgQDun"
      },
      "execution_count": null,
      "outputs": []
    },
    {
      "cell_type": "markdown",
      "source": [
        "## **Produto :** Produtos HAB PJ contratados pela CEHOJ"
      ],
      "metadata": {
        "id": "Z6PY3-Q6ODzu"
      }
    },
    {
      "cell_type": "markdown",
      "source": [
        "> Abaixo, consta a quantidade de registros em nossa amostra, distribuída por Produto"
      ],
      "metadata": {
        "id": "7xUTaViLOKbO"
      }
    },
    {
      "cell_type": "code",
      "source": [
        "# Converter os dados da coluna para análise \n",
        "\n",
        "tempos_movimentos['produto'] = tempos_movimentos['produto'].astype(str)"
      ],
      "metadata": {
        "id": "KtnlcJvnaM6_"
      },
      "execution_count": null,
      "outputs": []
    },
    {
      "cell_type": "code",
      "source": [
        "tempos_movimentos['produto'].value_counts()"
      ],
      "metadata": {
        "colab": {
          "base_uri": "https://localhost:8080/"
        },
        "id": "4SvKfGc-OGJ5",
        "outputId": "1de7a533-4a32-45a0-e8ea-edb34d7595c8"
      },
      "execution_count": null,
      "outputs": [
        {
          "output_type": "execute_result",
          "data": {
            "text/plain": [
              "Apoio à Produção COM PJ    178\n",
              "PEC                         14\n",
              "Alocação de Recursos         2\n",
              "Apoio à Produção SEM PJ      2\n",
              "Name: produto, dtype: int64"
            ]
          },
          "metadata": {},
          "execution_count": 180
        }
      ]
    },
    {
      "cell_type": "markdown",
      "source": [
        "## **OR :** Origem de Recurso das operações contratadas"
      ],
      "metadata": {
        "id": "dxk7rCE0U66b"
      }
    },
    {
      "cell_type": "markdown",
      "source": [
        "> Abaixo, consta a quantidade de registros em nossa amostra, distribuída por Origem de Recursos"
      ],
      "metadata": {
        "id": "_OclRH2F1TIu"
      }
    },
    {
      "cell_type": "code",
      "source": [
        "# Converter os dados da coluna para análise \n",
        "\n",
        "tempos_movimentos['OR'] = tempos_movimentos['OR'].astype(str)"
      ],
      "metadata": {
        "id": "bqE7xMq8lLqc"
      },
      "execution_count": null,
      "outputs": []
    },
    {
      "cell_type": "code",
      "source": [
        "tempos_movimentos['OR'].value_counts()"
      ],
      "metadata": {
        "colab": {
          "base_uri": "https://localhost:8080/"
        },
        "id": "bz7JjllwU_7L",
        "outputId": "f39d9863-dee8-43f7-be15-1eaf1642df06"
      },
      "execution_count": null,
      "outputs": [
        {
          "output_type": "execute_result",
          "data": {
            "text/plain": [
              "SBPE    106\n",
              "FGTS     90\n",
              "Name: OR, dtype: int64"
            ]
          },
          "metadata": {},
          "execution_count": 182
        }
      ]
    },
    {
      "cell_type": "markdown",
      "source": [
        "Vamos dividi-las abaixo entre os Produtos existentes:"
      ],
      "metadata": {
        "id": "h76LhGTjWMd0"
      }
    },
    {
      "cell_type": "code",
      "source": [
        "pd.DataFrame( tempos_movimentos.groupby(['OR', 'produto']).size(), columns=['quantidade'] )"
      ],
      "metadata": {
        "colab": {
          "base_uri": "https://localhost:8080/",
          "height": 269
        },
        "id": "V-j_3JY8VIAk",
        "outputId": "0475ac86-9362-4eb8-c3e6-52097ec1821e"
      },
      "execution_count": null,
      "outputs": [
        {
          "output_type": "execute_result",
          "data": {
            "text/plain": [
              "                              quantidade\n",
              "OR   produto                            \n",
              "FGTS Alocação de Recursos              2\n",
              "     Apoio à Produção COM PJ          87\n",
              "     Apoio à Produção SEM PJ           1\n",
              "SBPE Apoio à Produção COM PJ          91\n",
              "     Apoio à Produção SEM PJ           1\n",
              "     PEC                              14"
            ],
            "text/html": [
              "\n",
              "  <div id=\"df-b83bc1ef-f5da-4fca-b594-237c038cdab0\">\n",
              "    <div class=\"colab-df-container\">\n",
              "      <div>\n",
              "<style scoped>\n",
              "    .dataframe tbody tr th:only-of-type {\n",
              "        vertical-align: middle;\n",
              "    }\n",
              "\n",
              "    .dataframe tbody tr th {\n",
              "        vertical-align: top;\n",
              "    }\n",
              "\n",
              "    .dataframe thead th {\n",
              "        text-align: right;\n",
              "    }\n",
              "</style>\n",
              "<table border=\"1\" class=\"dataframe\">\n",
              "  <thead>\n",
              "    <tr style=\"text-align: right;\">\n",
              "      <th></th>\n",
              "      <th></th>\n",
              "      <th>quantidade</th>\n",
              "    </tr>\n",
              "    <tr>\n",
              "      <th>OR</th>\n",
              "      <th>produto</th>\n",
              "      <th></th>\n",
              "    </tr>\n",
              "  </thead>\n",
              "  <tbody>\n",
              "    <tr>\n",
              "      <th rowspan=\"3\" valign=\"top\">FGTS</th>\n",
              "      <th>Alocação de Recursos</th>\n",
              "      <td>2</td>\n",
              "    </tr>\n",
              "    <tr>\n",
              "      <th>Apoio à Produção COM PJ</th>\n",
              "      <td>87</td>\n",
              "    </tr>\n",
              "    <tr>\n",
              "      <th>Apoio à Produção SEM PJ</th>\n",
              "      <td>1</td>\n",
              "    </tr>\n",
              "    <tr>\n",
              "      <th rowspan=\"3\" valign=\"top\">SBPE</th>\n",
              "      <th>Apoio à Produção COM PJ</th>\n",
              "      <td>91</td>\n",
              "    </tr>\n",
              "    <tr>\n",
              "      <th>Apoio à Produção SEM PJ</th>\n",
              "      <td>1</td>\n",
              "    </tr>\n",
              "    <tr>\n",
              "      <th>PEC</th>\n",
              "      <td>14</td>\n",
              "    </tr>\n",
              "  </tbody>\n",
              "</table>\n",
              "</div>\n",
              "      <button class=\"colab-df-convert\" onclick=\"convertToInteractive('df-b83bc1ef-f5da-4fca-b594-237c038cdab0')\"\n",
              "              title=\"Convert this dataframe to an interactive table.\"\n",
              "              style=\"display:none;\">\n",
              "        \n",
              "  <svg xmlns=\"http://www.w3.org/2000/svg\" height=\"24px\"viewBox=\"0 0 24 24\"\n",
              "       width=\"24px\">\n",
              "    <path d=\"M0 0h24v24H0V0z\" fill=\"none\"/>\n",
              "    <path d=\"M18.56 5.44l.94 2.06.94-2.06 2.06-.94-2.06-.94-.94-2.06-.94 2.06-2.06.94zm-11 1L8.5 8.5l.94-2.06 2.06-.94-2.06-.94L8.5 2.5l-.94 2.06-2.06.94zm10 10l.94 2.06.94-2.06 2.06-.94-2.06-.94-.94-2.06-.94 2.06-2.06.94z\"/><path d=\"M17.41 7.96l-1.37-1.37c-.4-.4-.92-.59-1.43-.59-.52 0-1.04.2-1.43.59L10.3 9.45l-7.72 7.72c-.78.78-.78 2.05 0 2.83L4 21.41c.39.39.9.59 1.41.59.51 0 1.02-.2 1.41-.59l7.78-7.78 2.81-2.81c.8-.78.8-2.07 0-2.86zM5.41 20L4 18.59l7.72-7.72 1.47 1.35L5.41 20z\"/>\n",
              "  </svg>\n",
              "      </button>\n",
              "      \n",
              "  <style>\n",
              "    .colab-df-container {\n",
              "      display:flex;\n",
              "      flex-wrap:wrap;\n",
              "      gap: 12px;\n",
              "    }\n",
              "\n",
              "    .colab-df-convert {\n",
              "      background-color: #E8F0FE;\n",
              "      border: none;\n",
              "      border-radius: 50%;\n",
              "      cursor: pointer;\n",
              "      display: none;\n",
              "      fill: #1967D2;\n",
              "      height: 32px;\n",
              "      padding: 0 0 0 0;\n",
              "      width: 32px;\n",
              "    }\n",
              "\n",
              "    .colab-df-convert:hover {\n",
              "      background-color: #E2EBFA;\n",
              "      box-shadow: 0px 1px 2px rgba(60, 64, 67, 0.3), 0px 1px 3px 1px rgba(60, 64, 67, 0.15);\n",
              "      fill: #174EA6;\n",
              "    }\n",
              "\n",
              "    [theme=dark] .colab-df-convert {\n",
              "      background-color: #3B4455;\n",
              "      fill: #D2E3FC;\n",
              "    }\n",
              "\n",
              "    [theme=dark] .colab-df-convert:hover {\n",
              "      background-color: #434B5C;\n",
              "      box-shadow: 0px 1px 3px 1px rgba(0, 0, 0, 0.15);\n",
              "      filter: drop-shadow(0px 1px 2px rgba(0, 0, 0, 0.3));\n",
              "      fill: #FFFFFF;\n",
              "    }\n",
              "  </style>\n",
              "\n",
              "      <script>\n",
              "        const buttonEl =\n",
              "          document.querySelector('#df-b83bc1ef-f5da-4fca-b594-237c038cdab0 button.colab-df-convert');\n",
              "        buttonEl.style.display =\n",
              "          google.colab.kernel.accessAllowed ? 'block' : 'none';\n",
              "\n",
              "        async function convertToInteractive(key) {\n",
              "          const element = document.querySelector('#df-b83bc1ef-f5da-4fca-b594-237c038cdab0');\n",
              "          const dataTable =\n",
              "            await google.colab.kernel.invokeFunction('convertToInteractive',\n",
              "                                                     [key], {});\n",
              "          if (!dataTable) return;\n",
              "\n",
              "          const docLinkHtml = 'Like what you see? Visit the ' +\n",
              "            '<a target=\"_blank\" href=https://colab.research.google.com/notebooks/data_table.ipynb>data table notebook</a>'\n",
              "            + ' to learn more about interactive tables.';\n",
              "          element.innerHTML = '';\n",
              "          dataTable['output_type'] = 'display_data';\n",
              "          await google.colab.output.renderOutput(dataTable, element);\n",
              "          const docLink = document.createElement('div');\n",
              "          docLink.innerHTML = docLinkHtml;\n",
              "          element.appendChild(docLink);\n",
              "        }\n",
              "      </script>\n",
              "    </div>\n",
              "  </div>\n",
              "  "
            ]
          },
          "metadata": {},
          "execution_count": 183
        }
      ]
    },
    {
      "cell_type": "markdown",
      "source": [
        "*   Operações de Apoio à Produção estão praticamente divididas entre OR FGTS e SBPE (87 x 91)\n",
        "*   Operações PEC temos apenas SBPE, conforme norma vigente, enquanto Alocação de Recursos, somente FGTS\n",
        "\n"
      ],
      "metadata": {
        "id": "MYOfrcZQW-GV"
      }
    },
    {
      "cell_type": "markdown",
      "source": [
        "## **Natureza:** empreendimento Habitacional ou Misto"
      ],
      "metadata": {
        "id": "ugOiKTP2XZGr"
      }
    },
    {
      "cell_type": "markdown",
      "source": [
        "> Abaixo, consta a quantidade de registros em nossa amostra, distribuída por Natureza"
      ],
      "metadata": {
        "id": "T0w0h0Mz2GDO"
      }
    },
    {
      "cell_type": "code",
      "source": [
        "# Converter os dados da coluna para análise \n",
        "\n",
        "tempos_movimentos['natureza'] = tempos_movimentos['natureza'].astype(str)"
      ],
      "metadata": {
        "id": "RRVlqTWxlddG"
      },
      "execution_count": null,
      "outputs": []
    },
    {
      "cell_type": "code",
      "source": [
        "tempos_movimentos['natureza'].value_counts()"
      ],
      "metadata": {
        "colab": {
          "base_uri": "https://localhost:8080/"
        },
        "id": "Cc9EP_YxX5gu",
        "outputId": "94a7c9b8-0a3e-4d1e-e650-4caea4d45437"
      },
      "execution_count": null,
      "outputs": [
        {
          "output_type": "execute_result",
          "data": {
            "text/plain": [
              "Habitacional    196\n",
              "Name: natureza, dtype: int64"
            ]
          },
          "metadata": {},
          "execution_count": 185
        }
      ]
    },
    {
      "cell_type": "markdown",
      "source": [
        "*   Não temos nenhuma resposta referente a empreendimento Misto, portanto, vamos excluir esta coluna pra fins de facilitar a análise, considerando que 100% das respostas se tratam de empreendimentos Habitacionais.\n",
        "\n"
      ],
      "metadata": {
        "id": "h4EvozjPX7_X"
      }
    },
    {
      "cell_type": "code",
      "source": [
        "tempos_movimentos.drop(['natureza'], axis = 1, inplace = True) "
      ],
      "metadata": {
        "id": "qg-TopV4YkdP"
      },
      "execution_count": null,
      "outputs": []
    },
    {
      "cell_type": "markdown",
      "source": [
        "## **VP :** Vice Presidência / Superintendência que contratou a operação"
      ],
      "metadata": {
        "id": "E0qK96CsZTk6"
      }
    },
    {
      "cell_type": "markdown",
      "source": [
        "> Abaixo, consta a quantidade de registros em nossa amostra, distribuída por VP / Superintendência"
      ],
      "metadata": {
        "id": "4h21gbZ31907"
      }
    },
    {
      "cell_type": "code",
      "source": [
        "# Converter os dados da coluna para análise \n",
        "\n",
        "tempos_movimentos['VP'] = tempos_movimentos['VP'].astype(str)"
      ],
      "metadata": {
        "id": "7YtL6eTIllmo"
      },
      "execution_count": null,
      "outputs": []
    },
    {
      "cell_type": "code",
      "source": [
        "tempos_movimentos['VP'].value_counts()"
      ],
      "metadata": {
        "colab": {
          "base_uri": "https://localhost:8080/"
        },
        "id": "0BZzB8z-Ze-1",
        "outputId": "51447152-52c2-4bac-983a-2582895fd7f2"
      },
      "execution_count": null,
      "outputs": [
        {
          "output_type": "execute_result",
          "data": {
            "text/plain": [
              "VINAT [SUMEP]            108\n",
              "SEC [VINAT - SUNCO]       72\n",
              "VIRED RS / GO [SUMEP]     16\n",
              "Name: VP, dtype: int64"
            ]
          },
          "metadata": {},
          "execution_count": 188
        }
      ]
    },
    {
      "cell_type": "markdown",
      "source": [
        "*   Temos aqui 180 operações da VINAT e 16 operações VIRED (entre RS e GO)\n",
        "*   Vamos comparar a quantidade entre as Modalidades e Origens de Recursos"
      ],
      "metadata": {
        "id": "TF5zNFeuaoiG"
      }
    },
    {
      "cell_type": "code",
      "source": [
        "pd.DataFrame( tempos_movimentos.groupby(['VP', 'produto', 'OR'] ).size() , columns=['quantidade'] )"
      ],
      "metadata": {
        "colab": {
          "base_uri": "https://localhost:8080/",
          "height": 457
        },
        "id": "USk3n2-wbsVg",
        "outputId": "1886cba3-cebc-421a-aad2-1ad7bbddde0f"
      },
      "execution_count": null,
      "outputs": [
        {
          "output_type": "execute_result",
          "data": {
            "text/plain": [
              "                                                    quantidade\n",
              "VP                    produto                 OR              \n",
              "SEC [VINAT - SUNCO]   Alocação de Recursos    FGTS           1\n",
              "                      Apoio à Produção COM PJ FGTS          37\n",
              "                                              SBPE          33\n",
              "                      PEC                     SBPE           1\n",
              "VINAT [SUMEP]         Apoio à Produção COM PJ FGTS          43\n",
              "                                              SBPE          50\n",
              "                      Apoio à Produção SEM PJ FGTS           1\n",
              "                                              SBPE           1\n",
              "                      PEC                     SBPE          13\n",
              "VIRED RS / GO [SUMEP] Alocação de Recursos    FGTS           1\n",
              "                      Apoio à Produção COM PJ FGTS           7\n",
              "                                              SBPE           8"
            ],
            "text/html": [
              "\n",
              "  <div id=\"df-6826f255-7ebe-4b36-b397-6bcd0f559a55\">\n",
              "    <div class=\"colab-df-container\">\n",
              "      <div>\n",
              "<style scoped>\n",
              "    .dataframe tbody tr th:only-of-type {\n",
              "        vertical-align: middle;\n",
              "    }\n",
              "\n",
              "    .dataframe tbody tr th {\n",
              "        vertical-align: top;\n",
              "    }\n",
              "\n",
              "    .dataframe thead th {\n",
              "        text-align: right;\n",
              "    }\n",
              "</style>\n",
              "<table border=\"1\" class=\"dataframe\">\n",
              "  <thead>\n",
              "    <tr style=\"text-align: right;\">\n",
              "      <th></th>\n",
              "      <th></th>\n",
              "      <th></th>\n",
              "      <th>quantidade</th>\n",
              "    </tr>\n",
              "    <tr>\n",
              "      <th>VP</th>\n",
              "      <th>produto</th>\n",
              "      <th>OR</th>\n",
              "      <th></th>\n",
              "    </tr>\n",
              "  </thead>\n",
              "  <tbody>\n",
              "    <tr>\n",
              "      <th rowspan=\"4\" valign=\"top\">SEC [VINAT - SUNCO]</th>\n",
              "      <th>Alocação de Recursos</th>\n",
              "      <th>FGTS</th>\n",
              "      <td>1</td>\n",
              "    </tr>\n",
              "    <tr>\n",
              "      <th rowspan=\"2\" valign=\"top\">Apoio à Produção COM PJ</th>\n",
              "      <th>FGTS</th>\n",
              "      <td>37</td>\n",
              "    </tr>\n",
              "    <tr>\n",
              "      <th>SBPE</th>\n",
              "      <td>33</td>\n",
              "    </tr>\n",
              "    <tr>\n",
              "      <th>PEC</th>\n",
              "      <th>SBPE</th>\n",
              "      <td>1</td>\n",
              "    </tr>\n",
              "    <tr>\n",
              "      <th rowspan=\"5\" valign=\"top\">VINAT [SUMEP]</th>\n",
              "      <th rowspan=\"2\" valign=\"top\">Apoio à Produção COM PJ</th>\n",
              "      <th>FGTS</th>\n",
              "      <td>43</td>\n",
              "    </tr>\n",
              "    <tr>\n",
              "      <th>SBPE</th>\n",
              "      <td>50</td>\n",
              "    </tr>\n",
              "    <tr>\n",
              "      <th rowspan=\"2\" valign=\"top\">Apoio à Produção SEM PJ</th>\n",
              "      <th>FGTS</th>\n",
              "      <td>1</td>\n",
              "    </tr>\n",
              "    <tr>\n",
              "      <th>SBPE</th>\n",
              "      <td>1</td>\n",
              "    </tr>\n",
              "    <tr>\n",
              "      <th>PEC</th>\n",
              "      <th>SBPE</th>\n",
              "      <td>13</td>\n",
              "    </tr>\n",
              "    <tr>\n",
              "      <th rowspan=\"3\" valign=\"top\">VIRED RS / GO [SUMEP]</th>\n",
              "      <th>Alocação de Recursos</th>\n",
              "      <th>FGTS</th>\n",
              "      <td>1</td>\n",
              "    </tr>\n",
              "    <tr>\n",
              "      <th rowspan=\"2\" valign=\"top\">Apoio à Produção COM PJ</th>\n",
              "      <th>FGTS</th>\n",
              "      <td>7</td>\n",
              "    </tr>\n",
              "    <tr>\n",
              "      <th>SBPE</th>\n",
              "      <td>8</td>\n",
              "    </tr>\n",
              "  </tbody>\n",
              "</table>\n",
              "</div>\n",
              "      <button class=\"colab-df-convert\" onclick=\"convertToInteractive('df-6826f255-7ebe-4b36-b397-6bcd0f559a55')\"\n",
              "              title=\"Convert this dataframe to an interactive table.\"\n",
              "              style=\"display:none;\">\n",
              "        \n",
              "  <svg xmlns=\"http://www.w3.org/2000/svg\" height=\"24px\"viewBox=\"0 0 24 24\"\n",
              "       width=\"24px\">\n",
              "    <path d=\"M0 0h24v24H0V0z\" fill=\"none\"/>\n",
              "    <path d=\"M18.56 5.44l.94 2.06.94-2.06 2.06-.94-2.06-.94-.94-2.06-.94 2.06-2.06.94zm-11 1L8.5 8.5l.94-2.06 2.06-.94-2.06-.94L8.5 2.5l-.94 2.06-2.06.94zm10 10l.94 2.06.94-2.06 2.06-.94-2.06-.94-.94-2.06-.94 2.06-2.06.94z\"/><path d=\"M17.41 7.96l-1.37-1.37c-.4-.4-.92-.59-1.43-.59-.52 0-1.04.2-1.43.59L10.3 9.45l-7.72 7.72c-.78.78-.78 2.05 0 2.83L4 21.41c.39.39.9.59 1.41.59.51 0 1.02-.2 1.41-.59l7.78-7.78 2.81-2.81c.8-.78.8-2.07 0-2.86zM5.41 20L4 18.59l7.72-7.72 1.47 1.35L5.41 20z\"/>\n",
              "  </svg>\n",
              "      </button>\n",
              "      \n",
              "  <style>\n",
              "    .colab-df-container {\n",
              "      display:flex;\n",
              "      flex-wrap:wrap;\n",
              "      gap: 12px;\n",
              "    }\n",
              "\n",
              "    .colab-df-convert {\n",
              "      background-color: #E8F0FE;\n",
              "      border: none;\n",
              "      border-radius: 50%;\n",
              "      cursor: pointer;\n",
              "      display: none;\n",
              "      fill: #1967D2;\n",
              "      height: 32px;\n",
              "      padding: 0 0 0 0;\n",
              "      width: 32px;\n",
              "    }\n",
              "\n",
              "    .colab-df-convert:hover {\n",
              "      background-color: #E2EBFA;\n",
              "      box-shadow: 0px 1px 2px rgba(60, 64, 67, 0.3), 0px 1px 3px 1px rgba(60, 64, 67, 0.15);\n",
              "      fill: #174EA6;\n",
              "    }\n",
              "\n",
              "    [theme=dark] .colab-df-convert {\n",
              "      background-color: #3B4455;\n",
              "      fill: #D2E3FC;\n",
              "    }\n",
              "\n",
              "    [theme=dark] .colab-df-convert:hover {\n",
              "      background-color: #434B5C;\n",
              "      box-shadow: 0px 1px 3px 1px rgba(0, 0, 0, 0.15);\n",
              "      filter: drop-shadow(0px 1px 2px rgba(0, 0, 0, 0.3));\n",
              "      fill: #FFFFFF;\n",
              "    }\n",
              "  </style>\n",
              "\n",
              "      <script>\n",
              "        const buttonEl =\n",
              "          document.querySelector('#df-6826f255-7ebe-4b36-b397-6bcd0f559a55 button.colab-df-convert');\n",
              "        buttonEl.style.display =\n",
              "          google.colab.kernel.accessAllowed ? 'block' : 'none';\n",
              "\n",
              "        async function convertToInteractive(key) {\n",
              "          const element = document.querySelector('#df-6826f255-7ebe-4b36-b397-6bcd0f559a55');\n",
              "          const dataTable =\n",
              "            await google.colab.kernel.invokeFunction('convertToInteractive',\n",
              "                                                     [key], {});\n",
              "          if (!dataTable) return;\n",
              "\n",
              "          const docLinkHtml = 'Like what you see? Visit the ' +\n",
              "            '<a target=\"_blank\" href=https://colab.research.google.com/notebooks/data_table.ipynb>data table notebook</a>'\n",
              "            + ' to learn more about interactive tables.';\n",
              "          element.innerHTML = '';\n",
              "          dataTable['output_type'] = 'display_data';\n",
              "          await google.colab.output.renderOutput(dataTable, element);\n",
              "          const docLink = document.createElement('div');\n",
              "          docLink.innerHTML = docLinkHtml;\n",
              "          element.appendChild(docLink);\n",
              "        }\n",
              "      </script>\n",
              "    </div>\n",
              "  </div>\n",
              "  "
            ]
          },
          "metadata": {},
          "execution_count": 189
        }
      ]
    },
    {
      "cell_type": "markdown",
      "source": [
        "*   As operações de Apoio à Produção continuam sendo as mais distribuídas entre as VPs, estando a VINAT / SUNCO representada com 70 operações; VINAT / SUMEP com 95 (entre propostas COM e SEM PJ) e a VIRED / SUMEP (RS e GO apenas) com 15\n",
        "*   As propostas PEC estão em sua maioria na VINAT / SUMEP\n",
        "*   Na prática, a VIRED possui um considerável número de operações PEC, porém nossa amostra não contou com nenhuma delas \n",
        "\n",
        "\n",
        "\n"
      ],
      "metadata": {
        "id": "nnm37cZodGXb"
      }
    },
    {
      "cell_type": "markdown",
      "source": [
        "## **Tempo Checklist :** tempo gasto para análise e checklist das propostas"
      ],
      "metadata": {
        "id": "7SBgWYdweffc"
      }
    },
    {
      "cell_type": "code",
      "source": [
        "# Converter os dados da coluna em minutos, para análise \n",
        "\n",
        "tempos_movimentos['tm_checklist'] = tempos_movimentos['tm_checklist'].apply( lambda x : x.hour * 60  +  x.minute  +  x.second / 60 )"
      ],
      "metadata": {
        "id": "1KV42Km4VLNH"
      },
      "execution_count": null,
      "outputs": []
    },
    {
      "cell_type": "markdown",
      "source": [
        "*   Como sabemos que as operações têm diferentes tempos de execução entre si, vamos calcular seus valores e mostrá-los de forma separada por produto, origem de recursos e vice presidências, assim teremos uma visão mais completa dos prazos gastos pras demandas, e como elas se diferenciam entre si."
      ],
      "metadata": {
        "id": "DR1X2aqrT_xx"
      }
    },
    {
      "cell_type": "markdown",
      "source": [
        "###   **Panorama Geral**"
      ],
      "metadata": {
        "id": "Y9sG1XFFakaF"
      }
    },
    {
      "cell_type": "code",
      "source": [
        "tempos_movimentos['tm_checklist'].hist()"
      ],
      "metadata": {
        "colab": {
          "base_uri": "https://localhost:8080/",
          "height": 284
        },
        "id": "u0971K4SkXll",
        "outputId": "dba06a3d-b7cb-4452-d123-e217401fa13e"
      },
      "execution_count": null,
      "outputs": [
        {
          "output_type": "execute_result",
          "data": {
            "text/plain": [
              "<matplotlib.axes._subplots.AxesSubplot at 0x7f420f3d0710>"
            ]
          },
          "metadata": {},
          "execution_count": 192
        },
        {
          "output_type": "display_data",
          "data": {
            "text/plain": [
              "<Figure size 432x288 with 1 Axes>"
            ],
            "image/png": "[encoded data removed]"
          },
          "metadata": {
            "needs_background": "light"
          }
        }
      ]
    },
    {
      "cell_type": "markdown",
      "source": [
        "*   Podemos observar, pelo gráfico, que os valores de tempo gasto para as demandas, na etapa de checklist, não formam a chamada Distribuição Normal (ou seja, distribuição homogênea), que seria uma maior quantidade de valores distribuídos ao decorrer do gráfico. Ao invés disso, temos uma maior quantidade de valores mais pendentes para a esquerda\n",
        "*   Com isso, para chegarmos a um valor mais justo para o cálculo de tempo gasto na etapa de checklist, é **recomendável utilizar a MEDIANA da amostra, ao invés da comumente utilizada média, pois a medida é mais indicada para retratar casos onde os dados se distribuem de uma forma mais heterogênea**\n",
        "*   Nestes casos, caso ainda optassemos pelo uso da média, deveríamos retirar os *outliers* existentes para o cálculo, porém, como não temos uma distribuição normal, ainda assim esse valor tende a ficar relativamente longe do valor da mediana\n",
        "*   Vejamos abaixo algumas informações que os dados nos mostram:"
      ],
      "metadata": {
        "id": "kjtVGrwGy6IB"
      }
    },
    {
      "cell_type": "code",
      "source": [
        "tempos_movimentos['tm_checklist'].describe()"
      ],
      "metadata": {
        "colab": {
          "base_uri": "https://localhost:8080/"
        },
        "id": "uh_WFWMuXnns",
        "outputId": "0b63b1db-210a-47f8-d1cc-26c2ac388b2a"
      },
      "execution_count": null,
      "outputs": [
        {
          "output_type": "execute_result",
          "data": {
            "text/plain": [
              "count    196.000000\n",
              "mean      82.841837\n",
              "std       46.732523\n",
              "min       32.000000\n",
              "25%       45.000000\n",
              "50%       61.000000\n",
              "75%      111.500000\n",
              "max      235.000000\n",
              "Name: tm_checklist, dtype: float64"
            ]
          },
          "metadata": {},
          "execution_count": 193
        }
      ]
    },
    {
      "cell_type": "markdown",
      "source": [
        "*   A etapa de checklist demora, no mínimo, 30 minutos de execução\n",
        "*   Em 1/4 da amostra, o checklist durou 45 minutos ou menos pra ser realizado\n",
        "*   50% das vezes, o checklist demora até 1 hora pra ser feito (61 minutos)\n",
        "*   **Da mesma maneira, metade das operações demoraram mais de 1h na etapa de checklist**\n",
        "*   **25% das operações dentro da amostra demoraram mais que 1h50min para serem feitas (isto é, 75% do total < que 111 minutos)**"
      ],
      "metadata": {
        "id": "5G6uL_tuZScf"
      }
    },
    {
      "cell_type": "markdown",
      "source": [
        "> Presença de *Outliers*"
      ],
      "metadata": {
        "id": "7TX7JCubeGJ2"
      }
    },
    {
      "cell_type": "markdown",
      "source": [
        "*   Em uma análise desta natureza, é importante observarmos a presença de *outliers*, que são aqueles registros que destoam muito do restante das observações. Isso porque a presença destes registros pode distorcer a resposta que estamos buscando : um valor fiel para o prazo gasto, em média, na execução das demandas de Contratação"
      ],
      "metadata": {
        "id": "9Yd5-QdZRzhW"
      }
    },
    {
      "cell_type": "code",
      "source": [
        "q1 = tempos_movimentos['tm_checklist'].quantile(0.25)\n",
        "q3 = tempos_movimentos['tm_checklist'].quantile(0.75)\n",
        "\n",
        "IQR = q3 - q1"
      ],
      "metadata": {
        "id": "0lSIJQaieFKJ"
      },
      "execution_count": null,
      "outputs": []
    },
    {
      "cell_type": "code",
      "source": [
        "outliers = q3 + 1.5 * IQR\n",
        "outliers"
      ],
      "metadata": {
        "colab": {
          "base_uri": "https://localhost:8080/"
        },
        "id": "vypCzd96eSIC",
        "outputId": "0ee28233-e742-4203-c1c7-423d1af40a6d"
      },
      "execution_count": null,
      "outputs": [
        {
          "output_type": "execute_result",
          "data": {
            "text/plain": [
              "211.25"
            ]
          },
          "metadata": {},
          "execution_count": 196
        }
      ]
    },
    {
      "cell_type": "markdown",
      "source": [
        "*   Quando consideramos 100% de nossa amostra, aquelas propostas com mais de 211.25 minutos de execução na etapa de checklist são considerados nossos outliers. Vejamos quais são eles ..."
      ],
      "metadata": {
        "id": "WHsvwSAqe-o5"
      }
    },
    {
      "cell_type": "code",
      "source": [
        "tempos_movimentos.boxplot(column=['tm_checklist'])"
      ],
      "metadata": {
        "colab": {
          "base_uri": "https://localhost:8080/",
          "height": 283
        },
        "id": "JgwoHAelXA0x",
        "outputId": "9d031fee-0a5f-49cf-8d27-4d603140089b"
      },
      "execution_count": null,
      "outputs": [
        {
          "output_type": "execute_result",
          "data": {
            "text/plain": [
              "<matplotlib.axes._subplots.AxesSubplot at 0x7f420f367b10>"
            ]
          },
          "metadata": {},
          "execution_count": 198
        },
        {
          "output_type": "display_data",
          "data": {
            "text/plain": [
              "<Figure size 432x288 with 1 Axes>"
            ],
            "image/png": "[encoded data removed]"
          },
          "metadata": {
            "needs_background": "light"
          }
        }
      ]
    },
    {
      "cell_type": "markdown",
      "source": [
        "*   Olhando pelo gráfico, temos 3 operações com prazo de 'checklist' considerados *outliers*"
      ],
      "metadata": {
        "id": "77hGyaoBgbKT"
      }
    },
    {
      "cell_type": "code",
      "source": [
        "tempos_movimentos.loc[tempos_movimentos['tm_checklist'] >= 211.25, ['produto', 'OR', 'VP', 'tm_checklist']]"
      ],
      "metadata": {
        "colab": {
          "base_uri": "https://localhost:8080/",
          "height": 143
        },
        "id": "hzLdg_RReVFE",
        "outputId": "aa7d430e-8a99-4741-994a-789888db1d7e"
      },
      "execution_count": null,
      "outputs": [
        {
          "output_type": "execute_result",
          "data": {
            "text/plain": [
              "                     produto    OR             VP  tm_checklist\n",
              "77   Apoio à Produção COM PJ  SBPE  VINAT [SUMEP]         215.0\n",
              "148                      PEC  SBPE  VINAT [SUMEP]         220.0\n",
              "167                      PEC  SBPE  VINAT [SUMEP]         235.0"
            ],
            "text/html": [
              "\n",
              "  <div id=\"df-d752ea08-0d87-41d9-9bda-101cdfcb4da6\">\n",
              "    <div class=\"colab-df-container\">\n",
              "      <div>\n",
              "<style scoped>\n",
              "    .dataframe tbody tr th:only-of-type {\n",
              "        vertical-align: middle;\n",
              "    }\n",
              "\n",
              "    .dataframe tbody tr th {\n",
              "        vertical-align: top;\n",
              "    }\n",
              "\n",
              "    .dataframe thead th {\n",
              "        text-align: right;\n",
              "    }\n",
              "</style>\n",
              "<table border=\"1\" class=\"dataframe\">\n",
              "  <thead>\n",
              "    <tr style=\"text-align: right;\">\n",
              "      <th></th>\n",
              "      <th>produto</th>\n",
              "      <th>OR</th>\n",
              "      <th>VP</th>\n",
              "      <th>tm_checklist</th>\n",
              "    </tr>\n",
              "  </thead>\n",
              "  <tbody>\n",
              "    <tr>\n",
              "      <th>77</th>\n",
              "      <td>Apoio à Produção COM PJ</td>\n",
              "      <td>SBPE</td>\n",
              "      <td>VINAT [SUMEP]</td>\n",
              "      <td>215.0</td>\n",
              "    </tr>\n",
              "    <tr>\n",
              "      <th>148</th>\n",
              "      <td>PEC</td>\n",
              "      <td>SBPE</td>\n",
              "      <td>VINAT [SUMEP]</td>\n",
              "      <td>220.0</td>\n",
              "    </tr>\n",
              "    <tr>\n",
              "      <th>167</th>\n",
              "      <td>PEC</td>\n",
              "      <td>SBPE</td>\n",
              "      <td>VINAT [SUMEP]</td>\n",
              "      <td>235.0</td>\n",
              "    </tr>\n",
              "  </tbody>\n",
              "</table>\n",
              "</div>\n",
              "      <button class=\"colab-df-convert\" onclick=\"convertToInteractive('df-d752ea08-0d87-41d9-9bda-101cdfcb4da6')\"\n",
              "              title=\"Convert this dataframe to an interactive table.\"\n",
              "              style=\"display:none;\">\n",
              "        \n",
              "  <svg xmlns=\"http://www.w3.org/2000/svg\" height=\"24px\"viewBox=\"0 0 24 24\"\n",
              "       width=\"24px\">\n",
              "    <path d=\"M0 0h24v24H0V0z\" fill=\"none\"/>\n",
              "    <path d=\"M18.56 5.44l.94 2.06.94-2.06 2.06-.94-2.06-.94-.94-2.06-.94 2.06-2.06.94zm-11 1L8.5 8.5l.94-2.06 2.06-.94-2.06-.94L8.5 2.5l-.94 2.06-2.06.94zm10 10l.94 2.06.94-2.06 2.06-.94-2.06-.94-.94-2.06-.94 2.06-2.06.94z\"/><path d=\"M17.41 7.96l-1.37-1.37c-.4-.4-.92-.59-1.43-.59-.52 0-1.04.2-1.43.59L10.3 9.45l-7.72 7.72c-.78.78-.78 2.05 0 2.83L4 21.41c.39.39.9.59 1.41.59.51 0 1.02-.2 1.41-.59l7.78-7.78 2.81-2.81c.8-.78.8-2.07 0-2.86zM5.41 20L4 18.59l7.72-7.72 1.47 1.35L5.41 20z\"/>\n",
              "  </svg>\n",
              "      </button>\n",
              "      \n",
              "  <style>\n",
              "    .colab-df-container {\n",
              "      display:flex;\n",
              "      flex-wrap:wrap;\n",
              "      gap: 12px;\n",
              "    }\n",
              "\n",
              "    .colab-df-convert {\n",
              "      background-color: #E8F0FE;\n",
              "      border: none;\n",
              "      border-radius: 50%;\n",
              "      cursor: pointer;\n",
              "      display: none;\n",
              "      fill: #1967D2;\n",
              "      height: 32px;\n",
              "      padding: 0 0 0 0;\n",
              "      width: 32px;\n",
              "    }\n",
              "\n",
              "    .colab-df-convert:hover {\n",
              "      background-color: #E2EBFA;\n",
              "      box-shadow: 0px 1px 2px rgba(60, 64, 67, 0.3), 0px 1px 3px 1px rgba(60, 64, 67, 0.15);\n",
              "      fill: #174EA6;\n",
              "    }\n",
              "\n",
              "    [theme=dark] .colab-df-convert {\n",
              "      background-color: #3B4455;\n",
              "      fill: #D2E3FC;\n",
              "    }\n",
              "\n",
              "    [theme=dark] .colab-df-convert:hover {\n",
              "      background-color: #434B5C;\n",
              "      box-shadow: 0px 1px 3px 1px rgba(0, 0, 0, 0.15);\n",
              "      filter: drop-shadow(0px 1px 2px rgba(0, 0, 0, 0.3));\n",
              "      fill: #FFFFFF;\n",
              "    }\n",
              "  </style>\n",
              "\n",
              "      <script>\n",
              "        const buttonEl =\n",
              "          document.querySelector('#df-d752ea08-0d87-41d9-9bda-101cdfcb4da6 button.colab-df-convert');\n",
              "        buttonEl.style.display =\n",
              "          google.colab.kernel.accessAllowed ? 'block' : 'none';\n",
              "\n",
              "        async function convertToInteractive(key) {\n",
              "          const element = document.querySelector('#df-d752ea08-0d87-41d9-9bda-101cdfcb4da6');\n",
              "          const dataTable =\n",
              "            await google.colab.kernel.invokeFunction('convertToInteractive',\n",
              "                                                     [key], {});\n",
              "          if (!dataTable) return;\n",
              "\n",
              "          const docLinkHtml = 'Like what you see? Visit the ' +\n",
              "            '<a target=\"_blank\" href=https://colab.research.google.com/notebooks/data_table.ipynb>data table notebook</a>'\n",
              "            + ' to learn more about interactive tables.';\n",
              "          element.innerHTML = '';\n",
              "          dataTable['output_type'] = 'display_data';\n",
              "          await google.colab.output.renderOutput(dataTable, element);\n",
              "          const docLink = document.createElement('div');\n",
              "          docLink.innerHTML = docLinkHtml;\n",
              "          element.appendChild(docLink);\n",
              "        }\n",
              "      </script>\n",
              "    </div>\n",
              "  </div>\n",
              "  "
            ]
          },
          "metadata": {},
          "execution_count": 210
        }
      ]
    },
    {
      "cell_type": "markdown",
      "source": [
        "*   Trata-se de 3 operações SBPE da VINAT / SUMEP, sendo um Apoio à Produção com PJ e outros 2 PECs\n",
        "*   Importante notar que esse limite vai mudar quando selecionamos apenas algumas partes específicas do conjunto. Por exemplo, quando dividimos as respostas por produto, VP, ou OR, seus *outliers* terão um ponto de corte diferente.\n",
        "\n",
        "---\n",
        "\n",
        "\n",
        "*   Agora vamos esmiuçar os registros da amostra dividindo-os entre Produto, Origem de Recurso e Vice Presidência, pra enxergar como estes prazos se comportam separadamente entre si. "
      ],
      "metadata": {
        "id": "HKMuEc2-4yRl"
      }
    },
    {
      "cell_type": "markdown",
      "source": [
        "### **Comparativos**"
      ],
      "metadata": {
        "id": "00EptoW0lfh5"
      }
    },
    {
      "cell_type": "markdown",
      "source": [
        "#### Apoio à Produção COM PJ"
      ],
      "metadata": {
        "id": "tfpK0zhNs4hE"
      }
    },
    {
      "cell_type": "code",
      "source": [
        "tm_apoio_compj = tempos_movimentos[tempos_movimentos['produto'] == 'Apoio à Produção COM PJ']"
      ],
      "metadata": {
        "id": "5DG5mIJUrmnh"
      },
      "execution_count": null,
      "outputs": []
    },
    {
      "cell_type": "code",
      "source": [
        "def media_exceto_outliers(conjunto):\n",
        "  q1 = conjunto.quantile(0.25)\n",
        "  q3 = conjunto.quantile(0.75)\n",
        "\n",
        "  IQR = q3 - q1\n",
        "  outliers = q3 + 1.5 * IQR\n",
        "\n",
        "  return round( conjunto[conjunto < outliers].mean(), 2 )"
      ],
      "metadata": {
        "id": "Rm-U9LKL0xeb"
      },
      "execution_count": null,
      "outputs": []
    },
    {
      "cell_type": "code",
      "source": [
        "tm_apoio_compj.groupby(['OR', 'VP']).agg({'tm_checklist': [('Mediana', 'median'), ('Média s/ Outliers', lambda x : media_exceto_outliers(x))]})"
      ],
      "metadata": {
        "colab": {
          "base_uri": "https://localhost:8080/",
          "height": 300
        },
        "id": "JjPcbfg3AoWZ",
        "outputId": "48e115ca-8089-48ec-b3b8-0cbbaa2e5025"
      },
      "execution_count": null,
      "outputs": [
        {
          "output_type": "execute_result",
          "data": {
            "text/plain": [
              "                           tm_checklist                  \n",
              "                                Mediana Média s/ Outliers\n",
              "OR   VP                                                  \n",
              "FGTS SEC [VINAT - SUNCO]           45.0             50.61\n",
              "     VINAT [SUMEP]                 96.0             95.88\n",
              "     VIRED RS / GO [SUMEP]         60.0             71.00\n",
              "SBPE SEC [VINAT - SUNCO]           45.0             46.97\n",
              "     VINAT [SUMEP]                 95.0            100.44\n",
              "     VIRED RS / GO [SUMEP]         93.5             99.12"
            ],
            "text/html": [
              "\n",
              "  <div id=\"df-5769b6a2-01d0-44ec-a8d8-341dd3618c36\">\n",
              "    <div class=\"colab-df-container\">\n",
              "      <div>\n",
              "<style scoped>\n",
              "    .dataframe tbody tr th:only-of-type {\n",
              "        vertical-align: middle;\n",
              "    }\n",
              "\n",
              "    .dataframe tbody tr th {\n",
              "        vertical-align: top;\n",
              "    }\n",
              "\n",
              "    .dataframe thead tr th {\n",
              "        text-align: left;\n",
              "    }\n",
              "\n",
              "    .dataframe thead tr:last-of-type th {\n",
              "        text-align: right;\n",
              "    }\n",
              "</style>\n",
              "<table border=\"1\" class=\"dataframe\">\n",
              "  <thead>\n",
              "    <tr>\n",
              "      <th></th>\n",
              "      <th></th>\n",
              "      <th colspan=\"2\" halign=\"left\">tm_checklist</th>\n",
              "    </tr>\n",
              "    <tr>\n",
              "      <th></th>\n",
              "      <th></th>\n",
              "      <th>Mediana</th>\n",
              "      <th>Média s/ Outliers</th>\n",
              "    </tr>\n",
              "    <tr>\n",
              "      <th>OR</th>\n",
              "      <th>VP</th>\n",
              "      <th></th>\n",
              "      <th></th>\n",
              "    </tr>\n",
              "  </thead>\n",
              "  <tbody>\n",
              "    <tr>\n",
              "      <th rowspan=\"3\" valign=\"top\">FGTS</th>\n",
              "      <th>SEC [VINAT - SUNCO]</th>\n",
              "      <td>45.0</td>\n",
              "      <td>50.61</td>\n",
              "    </tr>\n",
              "    <tr>\n",
              "      <th>VINAT [SUMEP]</th>\n",
              "      <td>96.0</td>\n",
              "      <td>95.88</td>\n",
              "    </tr>\n",
              "    <tr>\n",
              "      <th>VIRED RS / GO [SUMEP]</th>\n",
              "      <td>60.0</td>\n",
              "      <td>71.00</td>\n",
              "    </tr>\n",
              "    <tr>\n",
              "      <th rowspan=\"3\" valign=\"top\">SBPE</th>\n",
              "      <th>SEC [VINAT - SUNCO]</th>\n",
              "      <td>45.0</td>\n",
              "      <td>46.97</td>\n",
              "    </tr>\n",
              "    <tr>\n",
              "      <th>VINAT [SUMEP]</th>\n",
              "      <td>95.0</td>\n",
              "      <td>100.44</td>\n",
              "    </tr>\n",
              "    <tr>\n",
              "      <th>VIRED RS / GO [SUMEP]</th>\n",
              "      <td>93.5</td>\n",
              "      <td>99.12</td>\n",
              "    </tr>\n",
              "  </tbody>\n",
              "</table>\n",
              "</div>\n",
              "      <button class=\"colab-df-convert\" onclick=\"convertToInteractive('df-5769b6a2-01d0-44ec-a8d8-341dd3618c36')\"\n",
              "              title=\"Convert this dataframe to an interactive table.\"\n",
              "              style=\"display:none;\">\n",
              "        \n",
              "  <svg xmlns=\"http://www.w3.org/2000/svg\" height=\"24px\"viewBox=\"0 0 24 24\"\n",
              "       width=\"24px\">\n",
              "    <path d=\"M0 0h24v24H0V0z\" fill=\"none\"/>\n",
              "    <path d=\"M18.56 5.44l.94 2.06.94-2.06 2.06-.94-2.06-.94-.94-2.06-.94 2.06-2.06.94zm-11 1L8.5 8.5l.94-2.06 2.06-.94-2.06-.94L8.5 2.5l-.94 2.06-2.06.94zm10 10l.94 2.06.94-2.06 2.06-.94-2.06-.94-.94-2.06-.94 2.06-2.06.94z\"/><path d=\"M17.41 7.96l-1.37-1.37c-.4-.4-.92-.59-1.43-.59-.52 0-1.04.2-1.43.59L10.3 9.45l-7.72 7.72c-.78.78-.78 2.05 0 2.83L4 21.41c.39.39.9.59 1.41.59.51 0 1.02-.2 1.41-.59l7.78-7.78 2.81-2.81c.8-.78.8-2.07 0-2.86zM5.41 20L4 18.59l7.72-7.72 1.47 1.35L5.41 20z\"/>\n",
              "  </svg>\n",
              "      </button>\n",
              "      \n",
              "  <style>\n",
              "    .colab-df-container {\n",
              "      display:flex;\n",
              "      flex-wrap:wrap;\n",
              "      gap: 12px;\n",
              "    }\n",
              "\n",
              "    .colab-df-convert {\n",
              "      background-color: #E8F0FE;\n",
              "      border: none;\n",
              "      border-radius: 50%;\n",
              "      cursor: pointer;\n",
              "      display: none;\n",
              "      fill: #1967D2;\n",
              "      height: 32px;\n",
              "      padding: 0 0 0 0;\n",
              "      width: 32px;\n",
              "    }\n",
              "\n",
              "    .colab-df-convert:hover {\n",
              "      background-color: #E2EBFA;\n",
              "      box-shadow: 0px 1px 2px rgba(60, 64, 67, 0.3), 0px 1px 3px 1px rgba(60, 64, 67, 0.15);\n",
              "      fill: #174EA6;\n",
              "    }\n",
              "\n",
              "    [theme=dark] .colab-df-convert {\n",
              "      background-color: #3B4455;\n",
              "      fill: #D2E3FC;\n",
              "    }\n",
              "\n",
              "    [theme=dark] .colab-df-convert:hover {\n",
              "      background-color: #434B5C;\n",
              "      box-shadow: 0px 1px 3px 1px rgba(0, 0, 0, 0.15);\n",
              "      filter: drop-shadow(0px 1px 2px rgba(0, 0, 0, 0.3));\n",
              "      fill: #FFFFFF;\n",
              "    }\n",
              "  </style>\n",
              "\n",
              "      <script>\n",
              "        const buttonEl =\n",
              "          document.querySelector('#df-5769b6a2-01d0-44ec-a8d8-341dd3618c36 button.colab-df-convert');\n",
              "        buttonEl.style.display =\n",
              "          google.colab.kernel.accessAllowed ? 'block' : 'none';\n",
              "\n",
              "        async function convertToInteractive(key) {\n",
              "          const element = document.querySelector('#df-5769b6a2-01d0-44ec-a8d8-341dd3618c36');\n",
              "          const dataTable =\n",
              "            await google.colab.kernel.invokeFunction('convertToInteractive',\n",
              "                                                     [key], {});\n",
              "          if (!dataTable) return;\n",
              "\n",
              "          const docLinkHtml = 'Like what you see? Visit the ' +\n",
              "            '<a target=\"_blank\" href=https://colab.research.google.com/notebooks/data_table.ipynb>data table notebook</a>'\n",
              "            + ' to learn more about interactive tables.';\n",
              "          element.innerHTML = '';\n",
              "          dataTable['output_type'] = 'display_data';\n",
              "          await google.colab.output.renderOutput(dataTable, element);\n",
              "          const docLink = document.createElement('div');\n",
              "          docLink.innerHTML = docLinkHtml;\n",
              "          element.appendChild(docLink);\n",
              "        }\n",
              "      </script>\n",
              "    </div>\n",
              "  </div>\n",
              "  "
            ]
          },
          "metadata": {},
          "execution_count": 240
        }
      ]
    },
    {
      "cell_type": "markdown",
      "source": [
        "**Prazos medianos na etapa de 'checklist' Apoio à Produção COM PJ**\n",
        "\n",
        "*   SEC : 45 minutos, sendo FGTS ou SBPE\n",
        "*   VINAT / SUMEP  : aprox. 95 minutos, FGTS ou SBPE\n",
        "*   VIRED [RS e GO]  : 60 minutos pra FGTS, e aprox. 95 pra SBPE\n",
        "\n"
      ],
      "metadata": {
        "id": "4giST2sftmkF"
      }
    },
    {
      "cell_type": "markdown",
      "source": [
        "#### PEC"
      ],
      "metadata": {
        "id": "rCbwNTy38WK_"
      }
    },
    {
      "cell_type": "code",
      "source": [
        "tm_pec = tempos_movimentos[tempos_movimentos['produto'] == 'PEC']"
      ],
      "metadata": {
        "id": "Qwf-fZb-8WLA"
      },
      "execution_count": null,
      "outputs": []
    },
    {
      "cell_type": "code",
      "source": [
        "tm_pec.groupby(['OR', 'VP']).agg({'tm_checklist': [('Mediana', 'median'), ('Média s/ Outliers', lambda x : media_exceto_outliers(x))]})"
      ],
      "metadata": {
        "colab": {
          "base_uri": "https://localhost:8080/",
          "height": 175
        },
        "id": "LkphYuSu9F0E",
        "outputId": "42ee3b63-cb30-4679-ccfd-471126f01257"
      },
      "execution_count": null,
      "outputs": [
        {
          "output_type": "execute_result",
          "data": {
            "text/plain": [
              "                         tm_checklist                  \n",
              "                              Mediana Média s/ Outliers\n",
              "OR   VP                                                \n",
              "SBPE SEC [VINAT - SUNCO]        100.0               NaN\n",
              "     VINAT [SUMEP]              118.0            128.85"
            ],
            "text/html": [
              "\n",
              "  <div id=\"df-ea8d3982-5f3b-4f6b-b727-ae7d38c19cdd\">\n",
              "    <div class=\"colab-df-container\">\n",
              "      <div>\n",
              "<style scoped>\n",
              "    .dataframe tbody tr th:only-of-type {\n",
              "        vertical-align: middle;\n",
              "    }\n",
              "\n",
              "    .dataframe tbody tr th {\n",
              "        vertical-align: top;\n",
              "    }\n",
              "\n",
              "    .dataframe thead tr th {\n",
              "        text-align: left;\n",
              "    }\n",
              "\n",
              "    .dataframe thead tr:last-of-type th {\n",
              "        text-align: right;\n",
              "    }\n",
              "</style>\n",
              "<table border=\"1\" class=\"dataframe\">\n",
              "  <thead>\n",
              "    <tr>\n",
              "      <th></th>\n",
              "      <th></th>\n",
              "      <th colspan=\"2\" halign=\"left\">tm_checklist</th>\n",
              "    </tr>\n",
              "    <tr>\n",
              "      <th></th>\n",
              "      <th></th>\n",
              "      <th>Mediana</th>\n",
              "      <th>Média s/ Outliers</th>\n",
              "    </tr>\n",
              "    <tr>\n",
              "      <th>OR</th>\n",
              "      <th>VP</th>\n",
              "      <th></th>\n",
              "      <th></th>\n",
              "    </tr>\n",
              "  </thead>\n",
              "  <tbody>\n",
              "    <tr>\n",
              "      <th rowspan=\"2\" valign=\"top\">SBPE</th>\n",
              "      <th>SEC [VINAT - SUNCO]</th>\n",
              "      <td>100.0</td>\n",
              "      <td>NaN</td>\n",
              "    </tr>\n",
              "    <tr>\n",
              "      <th>VINAT [SUMEP]</th>\n",
              "      <td>118.0</td>\n",
              "      <td>128.85</td>\n",
              "    </tr>\n",
              "  </tbody>\n",
              "</table>\n",
              "</div>\n",
              "      <button class=\"colab-df-convert\" onclick=\"convertToInteractive('df-ea8d3982-5f3b-4f6b-b727-ae7d38c19cdd')\"\n",
              "              title=\"Convert this dataframe to an interactive table.\"\n",
              "              style=\"display:none;\">\n",
              "        \n",
              "  <svg xmlns=\"http://www.w3.org/2000/svg\" height=\"24px\"viewBox=\"0 0 24 24\"\n",
              "       width=\"24px\">\n",
              "    <path d=\"M0 0h24v24H0V0z\" fill=\"none\"/>\n",
              "    <path d=\"M18.56 5.44l.94 2.06.94-2.06 2.06-.94-2.06-.94-.94-2.06-.94 2.06-2.06.94zm-11 1L8.5 8.5l.94-2.06 2.06-.94-2.06-.94L8.5 2.5l-.94 2.06-2.06.94zm10 10l.94 2.06.94-2.06 2.06-.94-2.06-.94-.94-2.06-.94 2.06-2.06.94z\"/><path d=\"M17.41 7.96l-1.37-1.37c-.4-.4-.92-.59-1.43-.59-.52 0-1.04.2-1.43.59L10.3 9.45l-7.72 7.72c-.78.78-.78 2.05 0 2.83L4 21.41c.39.39.9.59 1.41.59.51 0 1.02-.2 1.41-.59l7.78-7.78 2.81-2.81c.8-.78.8-2.07 0-2.86zM5.41 20L4 18.59l7.72-7.72 1.47 1.35L5.41 20z\"/>\n",
              "  </svg>\n",
              "      </button>\n",
              "      \n",
              "  <style>\n",
              "    .colab-df-container {\n",
              "      display:flex;\n",
              "      flex-wrap:wrap;\n",
              "      gap: 12px;\n",
              "    }\n",
              "\n",
              "    .colab-df-convert {\n",
              "      background-color: #E8F0FE;\n",
              "      border: none;\n",
              "      border-radius: 50%;\n",
              "      cursor: pointer;\n",
              "      display: none;\n",
              "      fill: #1967D2;\n",
              "      height: 32px;\n",
              "      padding: 0 0 0 0;\n",
              "      width: 32px;\n",
              "    }\n",
              "\n",
              "    .colab-df-convert:hover {\n",
              "      background-color: #E2EBFA;\n",
              "      box-shadow: 0px 1px 2px rgba(60, 64, 67, 0.3), 0px 1px 3px 1px rgba(60, 64, 67, 0.15);\n",
              "      fill: #174EA6;\n",
              "    }\n",
              "\n",
              "    [theme=dark] .colab-df-convert {\n",
              "      background-color: #3B4455;\n",
              "      fill: #D2E3FC;\n",
              "    }\n",
              "\n",
              "    [theme=dark] .colab-df-convert:hover {\n",
              "      background-color: #434B5C;\n",
              "      box-shadow: 0px 1px 3px 1px rgba(0, 0, 0, 0.15);\n",
              "      filter: drop-shadow(0px 1px 2px rgba(0, 0, 0, 0.3));\n",
              "      fill: #FFFFFF;\n",
              "    }\n",
              "  </style>\n",
              "\n",
              "      <script>\n",
              "        const buttonEl =\n",
              "          document.querySelector('#df-ea8d3982-5f3b-4f6b-b727-ae7d38c19cdd button.colab-df-convert');\n",
              "        buttonEl.style.display =\n",
              "          google.colab.kernel.accessAllowed ? 'block' : 'none';\n",
              "\n",
              "        async function convertToInteractive(key) {\n",
              "          const element = document.querySelector('#df-ea8d3982-5f3b-4f6b-b727-ae7d38c19cdd');\n",
              "          const dataTable =\n",
              "            await google.colab.kernel.invokeFunction('convertToInteractive',\n",
              "                                                     [key], {});\n",
              "          if (!dataTable) return;\n",
              "\n",
              "          const docLinkHtml = 'Like what you see? Visit the ' +\n",
              "            '<a target=\"_blank\" href=https://colab.research.google.com/notebooks/data_table.ipynb>data table notebook</a>'\n",
              "            + ' to learn more about interactive tables.';\n",
              "          element.innerHTML = '';\n",
              "          dataTable['output_type'] = 'display_data';\n",
              "          await google.colab.output.renderOutput(dataTable, element);\n",
              "          const docLink = document.createElement('div');\n",
              "          docLink.innerHTML = docLinkHtml;\n",
              "          element.appendChild(docLink);\n",
              "        }\n",
              "      </script>\n",
              "    </div>\n",
              "  </div>\n",
              "  "
            ]
          },
          "metadata": {},
          "execution_count": 241
        }
      ]
    },
    {
      "cell_type": "markdown",
      "source": [
        "OBS.: Como só temos 1 único PEC da SEC, não há cálculo de *oultiers* neste caso, sendo a Média igual à Mediana"
      ],
      "metadata": {
        "id": "czw0tU18EhEl"
      }
    },
    {
      "cell_type": "markdown",
      "source": [
        "**Prazos medianos na etapa de 'checklist' PEC**\n",
        "\n",
        "*   SEC : 100 minutos\n",
        "*   VINAT / SUMEP  : aprox. 120 minutos\n",
        "*   VIRED [RS e GO]  : sem amostras\n",
        "\n"
      ],
      "metadata": {
        "id": "Xa1jjLpg8WLC"
      }
    },
    {
      "cell_type": "code",
      "source": [],
      "metadata": {
        "id": "Jnqv6hAQF5uM"
      },
      "execution_count": null,
      "outputs": []
    },
    {
      "cell_type": "markdown",
      "source": [
        "## **Tempo Operacional :** tempo gasto para operacionalizar a proposta no sistema"
      ],
      "metadata": {
        "id": "Vi6U1NRdF6cz"
      }
    },
    {
      "cell_type": "code",
      "source": [
        "# Converter os dados da coluna em minutos, para análise \n",
        "\n",
        "tempos_movimentos['tm_operacional'] = tempos_movimentos['tm_operacional'].apply( lambda x : x.hour * 60  +  x.minute  +  x.second / 60 )"
      ],
      "metadata": {
        "id": "jC5plXwCF6c0"
      },
      "execution_count": null,
      "outputs": []
    },
    {
      "cell_type": "markdown",
      "source": [
        "###   **Panorama Geral**"
      ],
      "metadata": {
        "id": "hGxwJ451F6c1"
      }
    },
    {
      "cell_type": "code",
      "source": [
        "tempos_movimentos['tm_operacional'].hist()"
      ],
      "metadata": {
        "colab": {
          "base_uri": "https://localhost:8080/",
          "height": 282
        },
        "outputId": "52c1037d-bbb8-4aa6-b808-d6372f690b51",
        "id": "i54sgBpNF6c1"
      },
      "execution_count": null,
      "outputs": [
        {
          "output_type": "execute_result",
          "data": {
            "text/plain": [
              "<matplotlib.axes._subplots.AxesSubplot at 0x7f420f2feed0>"
            ]
          },
          "metadata": {},
          "execution_count": 266
        },
        {
          "output_type": "display_data",
          "data": {
            "text/plain": [
              "<Figure size 432x288 with 1 Axes>"
            ],
            "image/png": "[encoded data removed]"
          },
          "metadata": {
            "needs_background": "light"
          }
        }
      ]
    },
    {
      "cell_type": "markdown",
      "source": [
        "*   Observamos aqui que os dados estão distribuídos de forma mais homogênea que na etapa anterior de checklist, isto porque a fase de cadastramento da proposta no SIOPI tem menor variação entre os tipos de produto existentes\n",
        "*   Ainda vamos continuar calculando a Mediana e a Média (retirando os *outliers*), paara observar como os valores se comportam\n",
        "*   Vejamos abaixo algumas informações que os dados nos mostram:"
      ],
      "metadata": {
        "id": "DSN6VKaHF6c2"
      }
    },
    {
      "cell_type": "code",
      "source": [
        "tempos_movimentos['tm_operacional'].describe()"
      ],
      "metadata": {
        "colab": {
          "base_uri": "https://localhost:8080/"
        },
        "outputId": "f69677ba-ff58-4ca1-82e6-42469c47ea88",
        "id": "45EkYCytF6c3"
      },
      "execution_count": null,
      "outputs": [
        {
          "output_type": "execute_result",
          "data": {
            "text/plain": [
              "count    196.000000\n",
              "mean      46.979592\n",
              "std       24.786878\n",
              "min       10.000000\n",
              "25%       27.000000\n",
              "50%       41.000000\n",
              "75%       56.250000\n",
              "max      156.000000\n",
              "Name: tm_operacional, dtype: float64"
            ]
          },
          "metadata": {},
          "execution_count": 267
        }
      ]
    },
    {
      "cell_type": "markdown",
      "source": [
        "*   O menor prazo de operacionalização demorou 10 minutos [Alocação de Recursos]\n",
        "*   Em 1/4 da amostra, o operacional durou até aproximadamente 25 minutos pra ser realizado\n",
        "*   50% das vezes, o operacional demora em torno de 40 minutos pra ser feito\n",
        "*   **25% das operações da amostra demoraram mais que 1h para serem feitas (mais que 56 minutos, pra ser mais exato)**"
      ],
      "metadata": {
        "id": "xWLCsgdbF6c3"
      }
    },
    {
      "cell_type": "markdown",
      "source": [
        "> Presença de *Outliers*"
      ],
      "metadata": {
        "id": "D5IjK__JF6c3"
      }
    },
    {
      "cell_type": "code",
      "source": [
        "q1 = tempos_movimentos['tm_operacional'].quantile(0.25)\n",
        "q3 = tempos_movimentos['tm_operacional'].quantile(0.75)\n",
        "\n",
        "IQR = q3 - q1"
      ],
      "metadata": {
        "id": "tTj4X8z7F6c3"
      },
      "execution_count": null,
      "outputs": []
    },
    {
      "cell_type": "code",
      "source": [
        "outliers = q3 + 1.5 * IQR\n",
        "outliers"
      ],
      "metadata": {
        "colab": {
          "base_uri": "https://localhost:8080/"
        },
        "outputId": "70fcbb83-b46e-453f-d9a7-aa75d57f4037",
        "id": "EPNZyT8MF6c3"
      },
      "execution_count": null,
      "outputs": [
        {
          "output_type": "execute_result",
          "data": {
            "text/plain": [
              "100.125"
            ]
          },
          "metadata": {},
          "execution_count": 270
        }
      ]
    },
    {
      "cell_type": "markdown",
      "source": [
        "*   Quando consideramos 100% de nossa amostra, aquelas propostas com mais de 100 minutos de execução na etapa de checklist são considerados nossos outliers. Vejamos quais são eles ..."
      ],
      "metadata": {
        "id": "Gs_dAChKF6c4"
      }
    },
    {
      "cell_type": "code",
      "source": [
        "tempos_movimentos.boxplot(column=['tm_operacional'])"
      ],
      "metadata": {
        "colab": {
          "base_uri": "https://localhost:8080/",
          "height": 283
        },
        "outputId": "5d8c8742-dbe6-4502-fa77-279de8387f24",
        "id": "h3vh5uROF6c4"
      },
      "execution_count": null,
      "outputs": [
        {
          "output_type": "execute_result",
          "data": {
            "text/plain": [
              "<matplotlib.axes._subplots.AxesSubplot at 0x7f420edec8d0>"
            ]
          },
          "metadata": {},
          "execution_count": 271
        },
        {
          "output_type": "display_data",
          "data": {
            "text/plain": [
              "<Figure size 432x288 with 1 Axes>"
            ],
            "image/png": "[encoded data removed]"
          },
          "metadata": {
            "needs_background": "light"
          }
        }
      ]
    },
    {
      "cell_type": "markdown",
      "source": [
        "*   Olhando pelo gráfico, temos várias propostas com prazo de 'operacionalização' considerados *outliers*.\n",
        "*   Isso é esperável, visto que os dados estão mais próximos entre si, então aqueles que são um pouco maiores que a média, já são considerados *outliers*"
      ],
      "metadata": {
        "id": "7bMob-yKF6c4"
      }
    },
    {
      "cell_type": "code",
      "source": [
        "tempos_movimentos.loc[tempos_movimentos['tm_operacional'] >= 100.125, ['produto', 'OR', 'VP', 'tm_operacional']]"
      ],
      "metadata": {
        "colab": {
          "base_uri": "https://localhost:8080/",
          "height": 300
        },
        "outputId": "bbc4065d-d89a-43b0-af23-51ffba6938a2",
        "id": "gzBBpGS4F6c4"
      },
      "execution_count": null,
      "outputs": [
        {
          "output_type": "execute_result",
          "data": {
            "text/plain": [
              "                     produto    OR                     VP  tm_operacional\n",
              "51   Apoio à Produção COM PJ  FGTS          VINAT [SUMEP]           156.0\n",
              "52   Apoio à Produção COM PJ  FGTS          VINAT [SUMEP]           107.0\n",
              "53   Apoio à Produção COM PJ  FGTS          VINAT [SUMEP]           105.0\n",
              "55   Apoio à Produção COM PJ  FGTS          VINAT [SUMEP]           120.0\n",
              "60   Apoio à Produção COM PJ  FGTS          VINAT [SUMEP]           104.0\n",
              "61   Apoio à Produção COM PJ  FGTS          VINAT [SUMEP]           120.0\n",
              "146  Apoio à Produção COM PJ  SBPE  VIRED RS / GO [SUMEP]           105.0\n",
              "147  Apoio à Produção COM PJ  SBPE          VINAT [SUMEP]           105.0"
            ],
            "text/html": [
              "\n",
              "  <div id=\"df-bb72df5a-0ce2-4d29-848a-37f8741b53a8\">\n",
              "    <div class=\"colab-df-container\">\n",
              "      <div>\n",
              "<style scoped>\n",
              "    .dataframe tbody tr th:only-of-type {\n",
              "        vertical-align: middle;\n",
              "    }\n",
              "\n",
              "    .dataframe tbody tr th {\n",
              "        vertical-align: top;\n",
              "    }\n",
              "\n",
              "    .dataframe thead th {\n",
              "        text-align: right;\n",
              "    }\n",
              "</style>\n",
              "<table border=\"1\" class=\"dataframe\">\n",
              "  <thead>\n",
              "    <tr style=\"text-align: right;\">\n",
              "      <th></th>\n",
              "      <th>produto</th>\n",
              "      <th>OR</th>\n",
              "      <th>VP</th>\n",
              "      <th>tm_operacional</th>\n",
              "    </tr>\n",
              "  </thead>\n",
              "  <tbody>\n",
              "    <tr>\n",
              "      <th>51</th>\n",
              "      <td>Apoio à Produção COM PJ</td>\n",
              "      <td>FGTS</td>\n",
              "      <td>VINAT [SUMEP]</td>\n",
              "      <td>156.0</td>\n",
              "    </tr>\n",
              "    <tr>\n",
              "      <th>52</th>\n",
              "      <td>Apoio à Produção COM PJ</td>\n",
              "      <td>FGTS</td>\n",
              "      <td>VINAT [SUMEP]</td>\n",
              "      <td>107.0</td>\n",
              "    </tr>\n",
              "    <tr>\n",
              "      <th>53</th>\n",
              "      <td>Apoio à Produção COM PJ</td>\n",
              "      <td>FGTS</td>\n",
              "      <td>VINAT [SUMEP]</td>\n",
              "      <td>105.0</td>\n",
              "    </tr>\n",
              "    <tr>\n",
              "      <th>55</th>\n",
              "      <td>Apoio à Produção COM PJ</td>\n",
              "      <td>FGTS</td>\n",
              "      <td>VINAT [SUMEP]</td>\n",
              "      <td>120.0</td>\n",
              "    </tr>\n",
              "    <tr>\n",
              "      <th>60</th>\n",
              "      <td>Apoio à Produção COM PJ</td>\n",
              "      <td>FGTS</td>\n",
              "      <td>VINAT [SUMEP]</td>\n",
              "      <td>104.0</td>\n",
              "    </tr>\n",
              "    <tr>\n",
              "      <th>61</th>\n",
              "      <td>Apoio à Produção COM PJ</td>\n",
              "      <td>FGTS</td>\n",
              "      <td>VINAT [SUMEP]</td>\n",
              "      <td>120.0</td>\n",
              "    </tr>\n",
              "    <tr>\n",
              "      <th>146</th>\n",
              "      <td>Apoio à Produção COM PJ</td>\n",
              "      <td>SBPE</td>\n",
              "      <td>VIRED RS / GO [SUMEP]</td>\n",
              "      <td>105.0</td>\n",
              "    </tr>\n",
              "    <tr>\n",
              "      <th>147</th>\n",
              "      <td>Apoio à Produção COM PJ</td>\n",
              "      <td>SBPE</td>\n",
              "      <td>VINAT [SUMEP]</td>\n",
              "      <td>105.0</td>\n",
              "    </tr>\n",
              "  </tbody>\n",
              "</table>\n",
              "</div>\n",
              "      <button class=\"colab-df-convert\" onclick=\"convertToInteractive('df-bb72df5a-0ce2-4d29-848a-37f8741b53a8')\"\n",
              "              title=\"Convert this dataframe to an interactive table.\"\n",
              "              style=\"display:none;\">\n",
              "        \n",
              "  <svg xmlns=\"http://www.w3.org/2000/svg\" height=\"24px\"viewBox=\"0 0 24 24\"\n",
              "       width=\"24px\">\n",
              "    <path d=\"M0 0h24v24H0V0z\" fill=\"none\"/>\n",
              "    <path d=\"M18.56 5.44l.94 2.06.94-2.06 2.06-.94-2.06-.94-.94-2.06-.94 2.06-2.06.94zm-11 1L8.5 8.5l.94-2.06 2.06-.94-2.06-.94L8.5 2.5l-.94 2.06-2.06.94zm10 10l.94 2.06.94-2.06 2.06-.94-2.06-.94-.94-2.06-.94 2.06-2.06.94z\"/><path d=\"M17.41 7.96l-1.37-1.37c-.4-.4-.92-.59-1.43-.59-.52 0-1.04.2-1.43.59L10.3 9.45l-7.72 7.72c-.78.78-.78 2.05 0 2.83L4 21.41c.39.39.9.59 1.41.59.51 0 1.02-.2 1.41-.59l7.78-7.78 2.81-2.81c.8-.78.8-2.07 0-2.86zM5.41 20L4 18.59l7.72-7.72 1.47 1.35L5.41 20z\"/>\n",
              "  </svg>\n",
              "      </button>\n",
              "      \n",
              "  <style>\n",
              "    .colab-df-container {\n",
              "      display:flex;\n",
              "      flex-wrap:wrap;\n",
              "      gap: 12px;\n",
              "    }\n",
              "\n",
              "    .colab-df-convert {\n",
              "      background-color: #E8F0FE;\n",
              "      border: none;\n",
              "      border-radius: 50%;\n",
              "      cursor: pointer;\n",
              "      display: none;\n",
              "      fill: #1967D2;\n",
              "      height: 32px;\n",
              "      padding: 0 0 0 0;\n",
              "      width: 32px;\n",
              "    }\n",
              "\n",
              "    .colab-df-convert:hover {\n",
              "      background-color: #E2EBFA;\n",
              "      box-shadow: 0px 1px 2px rgba(60, 64, 67, 0.3), 0px 1px 3px 1px rgba(60, 64, 67, 0.15);\n",
              "      fill: #174EA6;\n",
              "    }\n",
              "\n",
              "    [theme=dark] .colab-df-convert {\n",
              "      background-color: #3B4455;\n",
              "      fill: #D2E3FC;\n",
              "    }\n",
              "\n",
              "    [theme=dark] .colab-df-convert:hover {\n",
              "      background-color: #434B5C;\n",
              "      box-shadow: 0px 1px 3px 1px rgba(0, 0, 0, 0.15);\n",
              "      filter: drop-shadow(0px 1px 2px rgba(0, 0, 0, 0.3));\n",
              "      fill: #FFFFFF;\n",
              "    }\n",
              "  </style>\n",
              "\n",
              "      <script>\n",
              "        const buttonEl =\n",
              "          document.querySelector('#df-bb72df5a-0ce2-4d29-848a-37f8741b53a8 button.colab-df-convert');\n",
              "        buttonEl.style.display =\n",
              "          google.colab.kernel.accessAllowed ? 'block' : 'none';\n",
              "\n",
              "        async function convertToInteractive(key) {\n",
              "          const element = document.querySelector('#df-bb72df5a-0ce2-4d29-848a-37f8741b53a8');\n",
              "          const dataTable =\n",
              "            await google.colab.kernel.invokeFunction('convertToInteractive',\n",
              "                                                     [key], {});\n",
              "          if (!dataTable) return;\n",
              "\n",
              "          const docLinkHtml = 'Like what you see? Visit the ' +\n",
              "            '<a target=\"_blank\" href=https://colab.research.google.com/notebooks/data_table.ipynb>data table notebook</a>'\n",
              "            + ' to learn more about interactive tables.';\n",
              "          element.innerHTML = '';\n",
              "          dataTable['output_type'] = 'display_data';\n",
              "          await google.colab.output.renderOutput(dataTable, element);\n",
              "          const docLink = document.createElement('div');\n",
              "          docLink.innerHTML = docLinkHtml;\n",
              "          element.appendChild(docLink);\n",
              "        }\n",
              "      </script>\n",
              "    </div>\n",
              "  </div>\n",
              "  "
            ]
          },
          "metadata": {},
          "execution_count": 272
        }
      ]
    },
    {
      "cell_type": "markdown",
      "source": [
        "*   Trata-se de 8 operações, sendo 6 delas propostas FGTS da VINAT / SUMEP\n",
        "\n",
        "---\n",
        "\n",
        "\n",
        "*   Agora vamos dividir os registros da amostra entre Produto, Origem de Recurso e Vice Presidência, pra enxergar como estes prazos se comportam separadamente entre si. "
      ],
      "metadata": {
        "id": "P2kfDOzQF6c4"
      }
    },
    {
      "cell_type": "markdown",
      "source": [
        "### **Comparativos**"
      ],
      "metadata": {
        "id": "jwNT3up9F6c4"
      }
    },
    {
      "cell_type": "markdown",
      "source": [
        "#### Apoio à Produção COM PJ"
      ],
      "metadata": {
        "id": "fe2XjvomF6c4"
      }
    },
    {
      "cell_type": "code",
      "source": [
        "tm_apoio_compj = tempos_movimentos[tempos_movimentos['produto'] == 'Apoio à Produção COM PJ']"
      ],
      "metadata": {
        "id": "uG6bb_Q3F6c4"
      },
      "execution_count": null,
      "outputs": []
    },
    {
      "cell_type": "code",
      "source": [
        "tm_apoio_compj.groupby(['OR', 'VP']).agg({'tm_operacional': [('Mediana', 'median'), ('Média s/ Outliers', lambda x : media_exceto_outliers(x))]})"
      ],
      "metadata": {
        "colab": {
          "base_uri": "https://localhost:8080/",
          "height": 300
        },
        "outputId": "bbb600fe-7c34-4a2a-8861-a36473981254",
        "id": "UqYkELoDF6c4"
      },
      "execution_count": null,
      "outputs": [
        {
          "output_type": "execute_result",
          "data": {
            "text/plain": [
              "                           tm_operacional                  \n",
              "                                  Mediana Média s/ Outliers\n",
              "OR   VP                                                    \n",
              "FGTS SEC [VINAT - SUNCO]             38.0             37.73\n",
              "     VINAT [SUMEP]                   55.0             62.26\n",
              "     VIRED RS / GO [SUMEP]           35.0             34.00\n",
              "SBPE SEC [VINAT - SUNCO]             32.0             34.85\n",
              "     VINAT [SUMEP]                   41.5             44.17\n",
              "     VIRED RS / GO [SUMEP]           39.5             53.25"
            ],
            "text/html": [
              "\n",
              "  <div id=\"df-4db0617f-6a53-44bc-9e44-727c115efcd5\">\n",
              "    <div class=\"colab-df-container\">\n",
              "      <div>\n",
              "<style scoped>\n",
              "    .dataframe tbody tr th:only-of-type {\n",
              "        vertical-align: middle;\n",
              "    }\n",
              "\n",
              "    .dataframe tbody tr th {\n",
              "        vertical-align: top;\n",
              "    }\n",
              "\n",
              "    .dataframe thead tr th {\n",
              "        text-align: left;\n",
              "    }\n",
              "\n",
              "    .dataframe thead tr:last-of-type th {\n",
              "        text-align: right;\n",
              "    }\n",
              "</style>\n",
              "<table border=\"1\" class=\"dataframe\">\n",
              "  <thead>\n",
              "    <tr>\n",
              "      <th></th>\n",
              "      <th></th>\n",
              "      <th colspan=\"2\" halign=\"left\">tm_operacional</th>\n",
              "    </tr>\n",
              "    <tr>\n",
              "      <th></th>\n",
              "      <th></th>\n",
              "      <th>Mediana</th>\n",
              "      <th>Média s/ Outliers</th>\n",
              "    </tr>\n",
              "    <tr>\n",
              "      <th>OR</th>\n",
              "      <th>VP</th>\n",
              "      <th></th>\n",
              "      <th></th>\n",
              "    </tr>\n",
              "  </thead>\n",
              "  <tbody>\n",
              "    <tr>\n",
              "      <th rowspan=\"3\" valign=\"top\">FGTS</th>\n",
              "      <th>SEC [VINAT - SUNCO]</th>\n",
              "      <td>38.0</td>\n",
              "      <td>37.73</td>\n",
              "    </tr>\n",
              "    <tr>\n",
              "      <th>VINAT [SUMEP]</th>\n",
              "      <td>55.0</td>\n",
              "      <td>62.26</td>\n",
              "    </tr>\n",
              "    <tr>\n",
              "      <th>VIRED RS / GO [SUMEP]</th>\n",
              "      <td>35.0</td>\n",
              "      <td>34.00</td>\n",
              "    </tr>\n",
              "    <tr>\n",
              "      <th rowspan=\"3\" valign=\"top\">SBPE</th>\n",
              "      <th>SEC [VINAT - SUNCO]</th>\n",
              "      <td>32.0</td>\n",
              "      <td>34.85</td>\n",
              "    </tr>\n",
              "    <tr>\n",
              "      <th>VINAT [SUMEP]</th>\n",
              "      <td>41.5</td>\n",
              "      <td>44.17</td>\n",
              "    </tr>\n",
              "    <tr>\n",
              "      <th>VIRED RS / GO [SUMEP]</th>\n",
              "      <td>39.5</td>\n",
              "      <td>53.25</td>\n",
              "    </tr>\n",
              "  </tbody>\n",
              "</table>\n",
              "</div>\n",
              "      <button class=\"colab-df-convert\" onclick=\"convertToInteractive('df-4db0617f-6a53-44bc-9e44-727c115efcd5')\"\n",
              "              title=\"Convert this dataframe to an interactive table.\"\n",
              "              style=\"display:none;\">\n",
              "        \n",
              "  <svg xmlns=\"http://www.w3.org/2000/svg\" height=\"24px\"viewBox=\"0 0 24 24\"\n",
              "       width=\"24px\">\n",
              "    <path d=\"M0 0h24v24H0V0z\" fill=\"none\"/>\n",
              "    <path d=\"M18.56 5.44l.94 2.06.94-2.06 2.06-.94-2.06-.94-.94-2.06-.94 2.06-2.06.94zm-11 1L8.5 8.5l.94-2.06 2.06-.94-2.06-.94L8.5 2.5l-.94 2.06-2.06.94zm10 10l.94 2.06.94-2.06 2.06-.94-2.06-.94-.94-2.06-.94 2.06-2.06.94z\"/><path d=\"M17.41 7.96l-1.37-1.37c-.4-.4-.92-.59-1.43-.59-.52 0-1.04.2-1.43.59L10.3 9.45l-7.72 7.72c-.78.78-.78 2.05 0 2.83L4 21.41c.39.39.9.59 1.41.59.51 0 1.02-.2 1.41-.59l7.78-7.78 2.81-2.81c.8-.78.8-2.07 0-2.86zM5.41 20L4 18.59l7.72-7.72 1.47 1.35L5.41 20z\"/>\n",
              "  </svg>\n",
              "      </button>\n",
              "      \n",
              "  <style>\n",
              "    .colab-df-container {\n",
              "      display:flex;\n",
              "      flex-wrap:wrap;\n",
              "      gap: 12px;\n",
              "    }\n",
              "\n",
              "    .colab-df-convert {\n",
              "      background-color: #E8F0FE;\n",
              "      border: none;\n",
              "      border-radius: 50%;\n",
              "      cursor: pointer;\n",
              "      display: none;\n",
              "      fill: #1967D2;\n",
              "      height: 32px;\n",
              "      padding: 0 0 0 0;\n",
              "      width: 32px;\n",
              "    }\n",
              "\n",
              "    .colab-df-convert:hover {\n",
              "      background-color: #E2EBFA;\n",
              "      box-shadow: 0px 1px 2px rgba(60, 64, 67, 0.3), 0px 1px 3px 1px rgba(60, 64, 67, 0.15);\n",
              "      fill: #174EA6;\n",
              "    }\n",
              "\n",
              "    [theme=dark] .colab-df-convert {\n",
              "      background-color: #3B4455;\n",
              "      fill: #D2E3FC;\n",
              "    }\n",
              "\n",
              "    [theme=dark] .colab-df-convert:hover {\n",
              "      background-color: #434B5C;\n",
              "      box-shadow: 0px 1px 3px 1px rgba(0, 0, 0, 0.15);\n",
              "      filter: drop-shadow(0px 1px 2px rgba(0, 0, 0, 0.3));\n",
              "      fill: #FFFFFF;\n",
              "    }\n",
              "  </style>\n",
              "\n",
              "      <script>\n",
              "        const buttonEl =\n",
              "          document.querySelector('#df-4db0617f-6a53-44bc-9e44-727c115efcd5 button.colab-df-convert');\n",
              "        buttonEl.style.display =\n",
              "          google.colab.kernel.accessAllowed ? 'block' : 'none';\n",
              "\n",
              "        async function convertToInteractive(key) {\n",
              "          const element = document.querySelector('#df-4db0617f-6a53-44bc-9e44-727c115efcd5');\n",
              "          const dataTable =\n",
              "            await google.colab.kernel.invokeFunction('convertToInteractive',\n",
              "                                                     [key], {});\n",
              "          if (!dataTable) return;\n",
              "\n",
              "          const docLinkHtml = 'Like what you see? Visit the ' +\n",
              "            '<a target=\"_blank\" href=https://colab.research.google.com/notebooks/data_table.ipynb>data table notebook</a>'\n",
              "            + ' to learn more about interactive tables.';\n",
              "          element.innerHTML = '';\n",
              "          dataTable['output_type'] = 'display_data';\n",
              "          await google.colab.output.renderOutput(dataTable, element);\n",
              "          const docLink = document.createElement('div');\n",
              "          docLink.innerHTML = docLinkHtml;\n",
              "          element.appendChild(docLink);\n",
              "        }\n",
              "      </script>\n",
              "    </div>\n",
              "  </div>\n",
              "  "
            ]
          },
          "metadata": {},
          "execution_count": 274
        }
      ]
    },
    {
      "cell_type": "markdown",
      "source": [
        "Observamos aqui valores de Média (sempre sem os *outliers*) mais próximos dos valores de Mediana"
      ],
      "metadata": {
        "id": "5VQB9bUGItQT"
      }
    },
    {
      "cell_type": "markdown",
      "source": [
        "**Prazos medianos na etapa de 'checklist' Apoio à Produção COM PJ**\n",
        "\n",
        "*   SEC : aprox. 40 minutos pra operações FGTS e aprox. 30 pra SBPE\n",
        "*   VINAT / SUMEP  : aprox. 55 minutos com FGTS e 40 em SBPE\n",
        "*   VIRED [RS e GO]  : aprox. 35 minutos FGTS, e aprox. 40 pra SBPE\n",
        "\n",
        "---\n",
        "*   Como são valores diferentes porém pouco distantes entre si, podemos fazer uma média entre eles, sugerindo assim um prazo GLOBAL (todas VPs) de aprox. 45 minutos para FGTS e 35 SBPE"
      ],
      "metadata": {
        "id": "ga8mxeyOF6c4"
      }
    },
    {
      "cell_type": "markdown",
      "source": [
        "#### PEC"
      ],
      "metadata": {
        "id": "Afez2HnXF6c4"
      }
    },
    {
      "cell_type": "code",
      "source": [
        "tm_pec = tempos_movimentos[tempos_movimentos['produto'] == 'PEC']"
      ],
      "metadata": {
        "id": "94cAwRpuF6c5"
      },
      "execution_count": null,
      "outputs": []
    },
    {
      "cell_type": "code",
      "source": [
        "tm_pec.groupby(['OR', 'VP']).agg({'tm_operacional': [('Mediana', 'median'), ('Média s/ Outliers', lambda x : media_exceto_outliers(x))]})"
      ],
      "metadata": {
        "colab": {
          "base_uri": "https://localhost:8080/",
          "height": 175
        },
        "outputId": "c9760cc9-09e8-4115-fa2e-4d887f7cc3cd",
        "id": "f2OXEWSWF6c5"
      },
      "execution_count": null,
      "outputs": [
        {
          "output_type": "execute_result",
          "data": {
            "text/plain": [
              "                         tm_operacional                  \n",
              "                                Mediana Média s/ Outliers\n",
              "OR   VP                                                  \n",
              "SBPE SEC [VINAT - SUNCO]           70.0               NaN\n",
              "     VINAT [SUMEP]                 55.0             57.23"
            ],
            "text/html": [
              "\n",
              "  <div id=\"df-c9739053-662c-4722-976f-083ede4657f8\">\n",
              "    <div class=\"colab-df-container\">\n",
              "      <div>\n",
              "<style scoped>\n",
              "    .dataframe tbody tr th:only-of-type {\n",
              "        vertical-align: middle;\n",
              "    }\n",
              "\n",
              "    .dataframe tbody tr th {\n",
              "        vertical-align: top;\n",
              "    }\n",
              "\n",
              "    .dataframe thead tr th {\n",
              "        text-align: left;\n",
              "    }\n",
              "\n",
              "    .dataframe thead tr:last-of-type th {\n",
              "        text-align: right;\n",
              "    }\n",
              "</style>\n",
              "<table border=\"1\" class=\"dataframe\">\n",
              "  <thead>\n",
              "    <tr>\n",
              "      <th></th>\n",
              "      <th></th>\n",
              "      <th colspan=\"2\" halign=\"left\">tm_operacional</th>\n",
              "    </tr>\n",
              "    <tr>\n",
              "      <th></th>\n",
              "      <th></th>\n",
              "      <th>Mediana</th>\n",
              "      <th>Média s/ Outliers</th>\n",
              "    </tr>\n",
              "    <tr>\n",
              "      <th>OR</th>\n",
              "      <th>VP</th>\n",
              "      <th></th>\n",
              "      <th></th>\n",
              "    </tr>\n",
              "  </thead>\n",
              "  <tbody>\n",
              "    <tr>\n",
              "      <th rowspan=\"2\" valign=\"top\">SBPE</th>\n",
              "      <th>SEC [VINAT - SUNCO]</th>\n",
              "      <td>70.0</td>\n",
              "      <td>NaN</td>\n",
              "    </tr>\n",
              "    <tr>\n",
              "      <th>VINAT [SUMEP]</th>\n",
              "      <td>55.0</td>\n",
              "      <td>57.23</td>\n",
              "    </tr>\n",
              "  </tbody>\n",
              "</table>\n",
              "</div>\n",
              "      <button class=\"colab-df-convert\" onclick=\"convertToInteractive('df-c9739053-662c-4722-976f-083ede4657f8')\"\n",
              "              title=\"Convert this dataframe to an interactive table.\"\n",
              "              style=\"display:none;\">\n",
              "        \n",
              "  <svg xmlns=\"http://www.w3.org/2000/svg\" height=\"24px\"viewBox=\"0 0 24 24\"\n",
              "       width=\"24px\">\n",
              "    <path d=\"M0 0h24v24H0V0z\" fill=\"none\"/>\n",
              "    <path d=\"M18.56 5.44l.94 2.06.94-2.06 2.06-.94-2.06-.94-.94-2.06-.94 2.06-2.06.94zm-11 1L8.5 8.5l.94-2.06 2.06-.94-2.06-.94L8.5 2.5l-.94 2.06-2.06.94zm10 10l.94 2.06.94-2.06 2.06-.94-2.06-.94-.94-2.06-.94 2.06-2.06.94z\"/><path d=\"M17.41 7.96l-1.37-1.37c-.4-.4-.92-.59-1.43-.59-.52 0-1.04.2-1.43.59L10.3 9.45l-7.72 7.72c-.78.78-.78 2.05 0 2.83L4 21.41c.39.39.9.59 1.41.59.51 0 1.02-.2 1.41-.59l7.78-7.78 2.81-2.81c.8-.78.8-2.07 0-2.86zM5.41 20L4 18.59l7.72-7.72 1.47 1.35L5.41 20z\"/>\n",
              "  </svg>\n",
              "      </button>\n",
              "      \n",
              "  <style>\n",
              "    .colab-df-container {\n",
              "      display:flex;\n",
              "      flex-wrap:wrap;\n",
              "      gap: 12px;\n",
              "    }\n",
              "\n",
              "    .colab-df-convert {\n",
              "      background-color: #E8F0FE;\n",
              "      border: none;\n",
              "      border-radius: 50%;\n",
              "      cursor: pointer;\n",
              "      display: none;\n",
              "      fill: #1967D2;\n",
              "      height: 32px;\n",
              "      padding: 0 0 0 0;\n",
              "      width: 32px;\n",
              "    }\n",
              "\n",
              "    .colab-df-convert:hover {\n",
              "      background-color: #E2EBFA;\n",
              "      box-shadow: 0px 1px 2px rgba(60, 64, 67, 0.3), 0px 1px 3px 1px rgba(60, 64, 67, 0.15);\n",
              "      fill: #174EA6;\n",
              "    }\n",
              "\n",
              "    [theme=dark] .colab-df-convert {\n",
              "      background-color: #3B4455;\n",
              "      fill: #D2E3FC;\n",
              "    }\n",
              "\n",
              "    [theme=dark] .colab-df-convert:hover {\n",
              "      background-color: #434B5C;\n",
              "      box-shadow: 0px 1px 3px 1px rgba(0, 0, 0, 0.15);\n",
              "      filter: drop-shadow(0px 1px 2px rgba(0, 0, 0, 0.3));\n",
              "      fill: #FFFFFF;\n",
              "    }\n",
              "  </style>\n",
              "\n",
              "      <script>\n",
              "        const buttonEl =\n",
              "          document.querySelector('#df-c9739053-662c-4722-976f-083ede4657f8 button.colab-df-convert');\n",
              "        buttonEl.style.display =\n",
              "          google.colab.kernel.accessAllowed ? 'block' : 'none';\n",
              "\n",
              "        async function convertToInteractive(key) {\n",
              "          const element = document.querySelector('#df-c9739053-662c-4722-976f-083ede4657f8');\n",
              "          const dataTable =\n",
              "            await google.colab.kernel.invokeFunction('convertToInteractive',\n",
              "                                                     [key], {});\n",
              "          if (!dataTable) return;\n",
              "\n",
              "          const docLinkHtml = 'Like what you see? Visit the ' +\n",
              "            '<a target=\"_blank\" href=https://colab.research.google.com/notebooks/data_table.ipynb>data table notebook</a>'\n",
              "            + ' to learn more about interactive tables.';\n",
              "          element.innerHTML = '';\n",
              "          dataTable['output_type'] = 'display_data';\n",
              "          await google.colab.output.renderOutput(dataTable, element);\n",
              "          const docLink = document.createElement('div');\n",
              "          docLink.innerHTML = docLinkHtml;\n",
              "          element.appendChild(docLink);\n",
              "        }\n",
              "      </script>\n",
              "    </div>\n",
              "  </div>\n",
              "  "
            ]
          },
          "metadata": {},
          "execution_count": 276
        }
      ]
    },
    {
      "cell_type": "markdown",
      "source": [
        "OBS.: Como só temos 1 único PEC da SEC, não há cálculo de *oultiers* neste caso, sendo a Média igual à Mediana"
      ],
      "metadata": {
        "id": "qh-49DdUF6c5"
      }
    },
    {
      "cell_type": "markdown",
      "source": [
        "**Prazos medianos na etapa de 'checklist' PEC**\n",
        "\n",
        "*   SEC : 70 minutos\n",
        "*   VINAT / SUMEP  : 55 minutos\n",
        "*   VIRED [RS e GO]  : sem amostras\n",
        "\n"
      ],
      "metadata": {
        "id": "ERk5tCQuF6c5"
      }
    }
  ]
}